{
 "cells": [
  {
   "cell_type": "markdown",
   "metadata": {},
   "source": [
    "# PaaS Demo"
   ]
  },
  {
   "cell_type": "markdown",
   "metadata": {},
   "source": [
    "#### API Key"
   ]
  },
  {
   "cell_type": "code",
   "execution_count": 8,
   "metadata": {},
   "outputs": [],
   "source": [
    "api_key = \"AAPKddd59......................................................\""
   ]
  },
  {
   "cell_type": "markdown",
   "metadata": {},
   "source": [
    "#### Logging In"
   ]
  },
  {
   "cell_type": "code",
   "execution_count": 9,
   "metadata": {},
   "outputs": [],
   "source": [
    "from arcgis.gis import GIS"
   ]
  },
  {
   "cell_type": "code",
   "execution_count": 10,
   "metadata": {},
   "outputs": [
    {
     "name": "stdout",
     "output_type": "stream",
     "text": [
      "API KEY Example - AAPKddd59c .........\n"
     ]
    }
   ],
   "source": [
    "print(f\"API KEY Example - {api_key[:10]} .........\")"
   ]
  },
  {
   "cell_type": "code",
   "execution_count": 11,
   "metadata": {},
   "outputs": [],
   "source": [
    "gis = GIS(api_key=api_key)"
   ]
  },
  {
   "cell_type": "code",
   "execution_count": 12,
   "metadata": {},
   "outputs": [
    {
     "data": {
      "text/plain": [
       "['portal:apikey:basemaps',\n",
       " 'premium:user:geocode',\n",
       " 'premium:user:geocode:stored',\n",
       " 'premium:user:geocode:temporary',\n",
       " 'premium:user:geoenrichment',\n",
       " 'premium:user:networkanalysis',\n",
       " 'premium:user:networkanalysis:closestfacility',\n",
       " 'premium:user:networkanalysis:locationallocation',\n",
       " 'premium:user:networkanalysis:optimizedrouting',\n",
       " 'premium:user:networkanalysis:origindestinationcostmatrix',\n",
       " 'premium:user:networkanalysis:routing',\n",
       " 'premium:user:networkanalysis:servicearea',\n",
       " 'premium:user:networkanalysis:vehiclerouting']"
      ]
     },
     "execution_count": 12,
     "metadata": {},
     "output_type": "execute_result"
    }
   ],
   "source": [
    "gis.properties.appInfo.privileges"
   ]
  },
  {
   "cell_type": "code",
   "execution_count": null,
   "metadata": {},
   "outputs": [],
   "source": [
    "from arcgis.geocoding import geocode"
   ]
  },
  {
   "cell_type": "code",
   "execution_count": null,
   "metadata": {},
   "outputs": [],
   "source": [
    "geocode(address=\"12 York Street, Camden, NJ\")[0]"
   ]
  }
 ],
 "metadata": {
  "kernelspec": {
   "display_name": "Python 3",
   "language": "python",
   "name": "python3"
  },
  "language_info": {
   "codemirror_mode": {
    "name": "ipython",
    "version": 3
   },
   "file_extension": ".py",
   "mimetype": "text/x-python",
   "name": "python",
   "nbconvert_exporter": "python",
   "pygments_lexer": "ipython3",
   "version": "3.7.9"
  }
 },
 "nbformat": 4,
 "nbformat_minor": 4
}
