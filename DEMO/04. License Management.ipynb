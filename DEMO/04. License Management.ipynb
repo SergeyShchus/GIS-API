{
 "cells": [
  {
   "cell_type": "markdown",
   "metadata": {},
   "source": [
    "# License Management"
   ]
  },
  {
   "cell_type": "markdown",
   "metadata": {},
   "source": [
    "At 1.8.5 and the upcoming 1.9.0 release the ArcGIS API for Python has many management task improvements.  In this demo we will show how to manage user licenses on ArcGIS Online."
   ]
  },
  {
   "cell_type": "markdown",
   "metadata": {},
   "source": [
    "#### Setup the Environment"
   ]
  },
  {
   "cell_type": "code",
   "execution_count": null,
   "metadata": {},
   "outputs": [],
   "source": [
    "from IPython import display\n",
    "import pandas as pd\n",
    "from arcgis.gis import GIS"
   ]
  },
  {
   "cell_type": "code",
   "execution_count": null,
   "metadata": {},
   "outputs": [],
   "source": [
    "gis = GIS(profile='your_online_profile')"
   ]
  },
  {
   "cell_type": "markdown",
   "metadata": {},
   "source": [
    "#### Access the License Manager"
   ]
  },
  {
   "cell_type": "code",
   "execution_count": null,
   "metadata": {},
   "outputs": [],
   "source": [
    "lm = gis.admin.license"
   ]
  },
  {
   "cell_type": "code",
   "execution_count": null,
   "metadata": {},
   "outputs": [],
   "source": [
    "licenses = lm.all()"
   ]
  },
  {
   "cell_type": "code",
   "execution_count": null,
   "metadata": {},
   "outputs": [],
   "source": [
    "gathered = []\n",
    "for lic in licenses:\n",
    "    try:\n",
    "        stats = lic.all()\n",
    "        for s in stats:\n",
    "            s['entitlements'] = \",\".join(s['entitlements'])\n",
    "        gathered.extend(stats)\n",
    "    except:\n",
    "        ..."
   ]
  },
  {
   "cell_type": "code",
   "execution_count": null,
   "metadata": {},
   "outputs": [],
   "source": [
    "df = pd.DataFrame(gathered)"
   ]
  },
  {
   "cell_type": "code",
   "execution_count": null,
   "metadata": {},
   "outputs": [],
   "source": [
    "df.head()"
   ]
  },
  {
   "cell_type": "markdown",
   "metadata": {},
   "source": [
    "#### Create a Pandas DataFrame for Easy Visualization of Data"
   ]
  },
  {
   "cell_type": "code",
   "execution_count": null,
   "metadata": {},
   "outputs": [],
   "source": [
    "groupby = pd.DataFrame(gathered).groupby('username')\n",
    "q = df.lastLogin == -1\n",
    "df.loc[q, ['lastLogin']] = None\n",
    "df.lastLogin = pd.to_datetime(df.lastLogin, unit='ms')"
   ]
  },
  {
   "cell_type": "code",
   "execution_count": null,
   "metadata": {},
   "outputs": [],
   "source": [
    "exploded_df = (df\n",
    "               .copy()\n",
    "               .set_index(df.columns.drop('entitlements',1).tolist())\n",
    "               .entitlements.str.split(',', expand=True)\n",
    "               .stack()\n",
    "               .reset_index()\n",
    "               .rename(columns={0:'entitlements'})\n",
    "               .loc[:, df.columns]\n",
    ")"
   ]
  },
  {
   "cell_type": "code",
   "execution_count": null,
   "metadata": {},
   "outputs": [],
   "source": [
    "grouped_df = exploded_df.groupby('entitlements')\n",
    "for key, item in grouped_df:\n",
    "    print(f\"entitlement: {key}\")\n",
    "    display.display(grouped_df.get_group(key))"
   ]
  },
  {
   "cell_type": "markdown",
   "metadata": {},
   "source": [
    "#### Total Entitlement and Extension Count"
   ]
  },
  {
   "cell_type": "code",
   "execution_count": null,
   "metadata": {},
   "outputs": [],
   "source": [
    "exploded_df.groupby('username').username.count()"
   ]
  }
 ],
 "metadata": {
  "kernelspec": {
   "display_name": "Python 3",
   "language": "python",
   "name": "python3"
  },
  "language_info": {
   "codemirror_mode": {
    "name": "ipython",
    "version": 3
   },
   "file_extension": ".py",
   "mimetype": "text/x-python",
   "name": "python",
   "nbconvert_exporter": "python",
   "pygments_lexer": "ipython3",
   "version": "3.7.9"
  }
 },
 "nbformat": 4,
 "nbformat_minor": 4
}
