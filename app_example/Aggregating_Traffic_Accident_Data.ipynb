{
  "nbformat": 4,
  "nbformat_minor": 0,
  "metadata": {
    "kernelspec": {
      "name": "python3",
      "display_name": "Python 3",
      "language": "python"
    },
    "language_info": {
      "name": "python",
      "version": "3.6.10",
      "mimetype": "text/x-python",
      "codemirror_mode": {
        "name": "ipython",
        "version": 3
      },
      "pygments_lexer": "ipython3",
      "nbconvert_exporter": "python",
      "file_extension": ".py"
    },
    "colab": {
      "name": "Aggregating Traffic Accident Data.ipynb",
      "provenance": [],
      "include_colab_link": true
    },
    "widgets": {
      "application/vnd.jupyter.widget-state+json": {
        "a4b35419bc1743838f5eadf09672086a": {
          "model_module": "arcgis-map-ipywidget",
          "model_name": "ArcGISMapIPyWidgetModel",
          "model_module_version": "1.9.1",
          "state": {
            "_view_name": "ArcGISMapIPyWidgetView",
            "_time_info": {},
            "_trigger_new_jlab_window_with_args": {},
            "_webscene": {},
            "_scale": -1,
            "_uuid": "b6d8a1d1-00a8-4511-aa4d-49070949fa27",
            "_image_overlays_to_remove": [],
            "_view_module": "arcgis-map-ipywidget",
            "_extent": {
              "xmin": -118.21126999999994,
              "ymin": 34.08045000000005,
              "ymax": 34.21445000000005,
              "xmax": -118.07726999999996
            },
            "_model_module_version": "1.9.1",
            "_readonly_webmap_from_js": {},
            "_gallery_basemaps": {
              "default": {
                "baseMapLayers": [
                  {
                    "url": "https://services.arcgisonline.com/ArcGIS/rest/services/World_Topo_Map/MapServer",
                    "resourceInfo": {
                      "layers": [
                        {
                          "name": "Citations",
                          "maxScale": 0,
                          "defaultVisibility": false,
                          "parentLayerId": -1,
                          "id": 0,
                          "minScale": 0,
                          "subLayerIds": null
                        }
                      ],
                      "tables": [],
                      "exportTilesAllowed": false,
                      "supportedImageFormatTypes": "PNG32,PNG24,PNG,JPG,DIB,TIFF,EMF,PS,PDF,GIF,SVG,SVGZ,BMP",
                      "supportsDynamicLayers": false,
                      "initialExtent": {
                        "xmin": -28848255.049479112,
                        "ymin": -2077452.082122866,
                        "ymax": 16430757.376790084,
                        "xmax": 28848255.049479112,
                        "spatialReference": {
                          "wkid": 102100,
                          "latestWkid": 3857
                        }
                      },
                      "maxImageHeight": 4096,
                      "maxScale": 70.5310735,
                      "capabilities": "Map,Tilemap,Query,Data",
                      "spatialReference": {
                        "wkid": 102100,
                        "latestWkid": 3857
                      },
                      "mapName": "Layers",
                      "currentVersion": 10.3,
                      "maxRecordCount": 100,
                      "maxImageWidth": 4096,
                      "units": "esriMeters",
                      "fullExtent": {
                        "xmin": -20037507.067161843,
                        "ymin": -19971868.880408604,
                        "ymax": 19971868.88040863,
                        "xmax": 20037507.067161843,
                        "spatialReference": {
                          "wkid": 102100,
                          "latestWkid": 3857
                        }
                      },
                      "singleFusedMapCache": true,
                      "supportedQueryFormats": "JSON, AMF",
                      "minScale": 591657527.591555,
                      "supportedExtensions": "KmlServer",
                      "tileInfo": {
                        "origin": {
                          "y": 20037508.342787,
                          "x": -20037508.342787
                        },
                        "rows": 256,
                        "format": "JPEG",
                        "cols": 256,
                        "compressionQuality": 90,
                        "lods": [
                          {
                            "scale": 591657527.591555,
                            "resolution": 156543.03392800014,
                            "level": 0
                          },
                          {
                            "scale": 295828763.795777,
                            "resolution": 78271.51696399994,
                            "level": 1
                          },
                          {
                            "scale": 147914381.897889,
                            "resolution": 39135.75848200009,
                            "level": 2
                          },
                          {
                            "scale": 73957190.948944,
                            "resolution": 19567.87924099992,
                            "level": 3
                          },
                          {
                            "scale": 36978595.474472,
                            "resolution": 9783.93962049996,
                            "level": 4
                          },
                          {
                            "scale": 18489297.737236,
                            "resolution": 4891.96981024998,
                            "level": 5
                          },
                          {
                            "scale": 9244648.868618,
                            "resolution": 2445.98490512499,
                            "level": 6
                          },
                          {
                            "scale": 4622324.434309,
                            "resolution": 1222.992452562495,
                            "level": 7
                          },
                          {
                            "scale": 2311162.217155,
                            "resolution": 611.4962262813797,
                            "level": 8
                          },
                          {
                            "scale": 1155581.108577,
                            "resolution": 305.74811314055756,
                            "level": 9
                          },
                          {
                            "scale": 577790.554289,
                            "resolution": 152.87405657041106,
                            "level": 10
                          },
                          {
                            "scale": 288895.277144,
                            "resolution": 76.43702828507324,
                            "level": 11
                          },
                          {
                            "scale": 144447.638572,
                            "resolution": 38.21851414253662,
                            "level": 12
                          },
                          {
                            "scale": 72223.819286,
                            "resolution": 19.10925707126831,
                            "level": 13
                          },
                          {
                            "scale": 36111.909643,
                            "resolution": 9.554628535634155,
                            "level": 14
                          },
                          {
                            "scale": 18055.954822,
                            "resolution": 4.77731426794937,
                            "level": 15
                          },
                          {
                            "scale": 9027.977411,
                            "resolution": 2.388657133974685,
                            "level": 16
                          },
                          {
                            "scale": 4513.988705,
                            "resolution": 1.1943285668550503,
                            "level": 17
                          },
                          {
                            "scale": 2256.994353,
                            "resolution": 0.5971642835598172,
                            "level": 18
                          },
                          {
                            "scale": 1128.497176,
                            "resolution": 0.29858214164761665,
                            "level": 19
                          },
                          {
                            "scale": 564.248588,
                            "resolution": 0.14929107082380833,
                            "level": 20
                          },
                          {
                            "scale": 282.124294,
                            "resolution": 0.07464553541190416,
                            "level": 21
                          },
                          {
                            "scale": 141.062147,
                            "resolution": 0.03732276770595208,
                            "level": 22
                          },
                          {
                            "scale": 70.5310735,
                            "resolution": 0.01866138385297604,
                            "level": 23
                          }
                        ],
                        "spatialReference": {
                          "wkid": 102100,
                          "latestWkid": 3857
                        },
                        "dpi": 96
                      }
                    },
                    "layerType": "ArcGISTiledMapServiceLayer"
                  }
                ],
                "title": "Topographic"
              }
            },
            "_center": {},
            "time_slider": false,
            "print_service_url": "",
            "tab_mode": "auto",
            "ready": false,
            "_trigger_print_js_debug_info": "",
            "_basemap": "default",
            "_readonly_heading": 0,
            "_model_module": "arcgis-map-ipywidget",
            "_overlay_this_image": {},
            "_snap_to_zoom": true,
            "_link_writeonly_tilt": 0,
            "_link_writeonly_rotation": 0,
            "layout": "IPY_MODEL_2d2cdfe28f9a4e999dd91673a4859ab5",
            "_model_name": "ArcGISMapIPyWidgetModel",
            "_zoom": -1,
            "_view_module_version": "1.9.1",
            "_readonly_end_time": "",
            "jupyter_target": "",
            "_readonly_extent": {},
            "_writeonly_end_time": "1900-01-01T00:00:00.000000",
            "_portal_token": "",
            "_portal_sharing_rest_url": "https://www.arcgis.com/sharing/rest/",
            "_writeonly_start_time": "1900-01-01T00:00:00.000000",
            "_tilt": 0,
            "_username": "None",
            "_readonly_center": {},
            "_dom_classes": [],
            "_preview_screenshot_callback_resp": "",
            "_heading": 0,
            "_trigger_webscene_save_to_this_portal_id": "",
            "_readonly_zoom": -1,
            "_js_cdn_override": "",
            "_link_writeonly_extent": {},
            "_center_long_lat": [],
            "_overlay_these_images_on_widget_load": [],
            "_link_writeonly_heading": 0,
            "_add_this_graphic": {},
            "_readonly_scale": -1,
            "_view_count": null,
            "legend": false,
            "_webmap": {},
            "_draw_these_notype_layers_on_widget_load": [
              {
                "url": "https://services2.arcgis.com/j80Jz20at6Bi0thr/arcgis/rest/services/Pasadena_Block_Groups/FeatureServer/0",
                "type": "FeatureLayer",
                "options": {
                  "renderer": {
                    "symbol": {
                      "color": [
                        235,
                        254,
                        208,
                        0
                      ],
                      "style": "esriSFSSolid",
                      "type": "esriSFS",
                      "outline": {
                        "color": [
                          205,
                          170,
                          102,
                          255
                        ],
                        "width": 2,
                        "style": "esriSLSSolid",
                        "type": "esriSLS"
                      }
                    },
                    "type": "simple"
                  }
                },
                "_hashFromPython": "8766169193189"
              },
              {
                "url": "https://services2.arcgis.com/zNjnZafDYCAJAbN0/arcgis/rest/services/Traffic_Collisions/FeatureServer/0",
                "type": "FeatureLayer",
                "options": {
                  "renderer": {
                    "symbol": {
                      "style": "esriSMSCircle",
                      "angle": 0,
                      "outline": {
                        "color": [
                          0,
                          0,
                          0,
                          255
                        ],
                        "width": 0,
                        "style": "esriSLSSolid",
                        "type": "esriSLS"
                      },
                      "color": [
                        231,
                        40,
                        0,
                        255
                      ],
                      "yoffset": 0,
                      "type": "esriSMS",
                      "xoffset": 0,
                      "size": 8
                    },
                    "type": "simple"
                  }
                },
                "_hashFromPython": "8766169357005"
              }
            ],
            "_auth_mode": "anonymous",
            "_portal_url": "https://www.arcgis.com/",
            "hide_mode_switch": false,
            "_draw_these_graphics_on_widget_load": [],
            "_trigger_screenshot_with_args": {},
            "_trigger_interactive_draw_mode_for": "",
            "_custom_msg": "",
            "_rotation": 0,
            "_cell_output_screenshot_callback_resp": "",
            "_readonly_tilt": 0,
            "mode": "2D",
            "_readonly_rotation": 0,
            "_file_output_screenshot_callback_resp": "",
            "_readonly_start_time": "",
            "time_mode": "time-window",
            "_layers_to_remove": [],
            "_add_this_notype_layer": {}
          }
        }
      }
    }
  },
  "cells": [
    {
      "cell_type": "markdown",
      "metadata": {
        "id": "view-in-github",
        "colab_type": "text"
      },
      "source": [
        "<a href=\"https://colab.research.google.com/github/SergeyShchus/GIS-API/blob/main/app_example/Aggregating_Traffic_Accident_Data.ipynb\" target=\"_parent\"><img src=\"https://colab.research.google.com/assets/colab-badge.svg\" alt=\"Open In Colab\"/></a>"
      ]
    },
    {
      "cell_type": "markdown",
      "metadata": {
        "id": "1Bl7PAzvzq5r"
      },
      "source": [
        "# Aggregating Traffic Accident Data\n",
        "\n",
        "In this notebook, we will aggregate traffic accident points by using [traffic collisions](https://learngis.maps.arcgis.com/home/item.html?id=79d3e458dcaf486f81c5591a67538179) from Pasadena, CA and [block groups](https://learngis.maps.arcgis.com/home/item.html?id=af363700f8f84c11a02f084e78a296aa) extracted from the Esri Living Atlas. \n",
        "\n",
        "We will start by showing how to aggregate traffic collisions by block group. Then we will aggregate traffic collisions by hexbin. The two approaches reveal different patterns to the traffic collision data."
      ]
    },
    {
      "cell_type": "code",
      "metadata": {
        "colab": {
          "base_uri": "https://localhost:8080/"
        },
        "id": "AqHcJZqb3qpo",
        "outputId": "f0bc7b75-36fe-458b-8fe3-f4e96cee344b"
      },
      "source": [
        "%%bash\n",
        "MINICONDA_INSTALLER_SCRIPT=Miniconda3-4.5.4-Linux-x86_64.sh\n",
        "MINICONDA_PREFIX=/usr/local\n",
        "wget https://repo.continuum.io/miniconda/$MINICONDA_INSTALLER_SCRIPT\n",
        "chmod +x $MINICONDA_INSTALLER_SCRIPT\n",
        "./$MINICONDA_INSTALLER_SCRIPT -b -f -p $MINICONDA_PREFIX\n",
        "\n",
        "conda install -c esri -c fastai -c pytorch -c anaconda arcgis=1.8.4 ujson scikit-image=0.15.0 pillow=7.1.2 libtiff=4.1.0 fastai=1.0.60 pytorch=1.4.0 torchvision=0.5.0 python=3.7.9 --yes --no-pin\n"
      ],
      "execution_count": 28,
      "outputs": [
        {
          "output_type": "stream",
          "name": "stdout",
          "text": [
            "PREFIX=/usr/local\n",
            "installing: python-3.6.5-hc3d631a_2 ...\n",
            "installing: ca-certificates-2018.03.07-0 ...\n",
            "installing: conda-env-2.6.0-h36134e3_1 ...\n",
            "installing: libgcc-ng-7.2.0-hdf63c60_3 ...\n",
            "installing: libstdcxx-ng-7.2.0-hdf63c60_3 ...\n",
            "installing: libffi-3.2.1-hd88cf55_4 ...\n",
            "installing: ncurses-6.1-hf484d3e_0 ...\n",
            "installing: openssl-1.0.2o-h20670df_0 ...\n",
            "installing: tk-8.6.7-hc745277_3 ...\n",
            "installing: xz-5.2.4-h14c3975_4 ...\n",
            "installing: yaml-0.1.7-had09818_2 ...\n",
            "installing: zlib-1.2.11-ha838bed_2 ...\n",
            "installing: libedit-3.1.20170329-h6b74fdf_2 ...\n",
            "installing: readline-7.0-ha6073c6_4 ...\n",
            "installing: sqlite-3.23.1-he433501_0 ...\n",
            "installing: asn1crypto-0.24.0-py36_0 ...\n",
            "installing: certifi-2018.4.16-py36_0 ...\n",
            "installing: chardet-3.0.4-py36h0f667ec_1 ...\n",
            "installing: idna-2.6-py36h82fb2a8_1 ...\n",
            "installing: pycosat-0.6.3-py36h0a5515d_0 ...\n",
            "installing: pycparser-2.18-py36hf9f622e_1 ...\n",
            "installing: pysocks-1.6.8-py36_0 ...\n",
            "installing: ruamel_yaml-0.15.37-py36h14c3975_2 ...\n",
            "installing: six-1.11.0-py36h372c433_1 ...\n",
            "installing: cffi-1.11.5-py36h9745a5d_0 ...\n",
            "installing: setuptools-39.2.0-py36_0 ...\n",
            "installing: cryptography-2.2.2-py36h14c3975_0 ...\n",
            "installing: wheel-0.31.1-py36_0 ...\n",
            "installing: pip-10.0.1-py36_0 ...\n",
            "installing: pyopenssl-18.0.0-py36_0 ...\n",
            "installing: urllib3-1.22-py36hbe7ace6_0 ...\n",
            "installing: requests-2.18.4-py36he2e5f8d_1 ...\n",
            "installing: conda-4.5.4-py36_0 ...\n",
            "unlinking: ca-certificates-2020.10.14-0\n",
            "unlinking: certifi-2020.6.20-py37_0\n",
            "unlinking: cffi-1.14.3-py37he30daa8_0\n",
            "unlinking: chardet-3.0.4-py37_1003\n",
            "unlinking: cryptography-3.1.1-py37h1ba5d50_0\n",
            "unlinking: idna-2.10-py_0\n",
            "unlinking: libedit-3.1.20191231-h14c3975_1\n",
            "unlinking: libffi-3.3-he6710b0_2\n",
            "unlinking: libgcc-ng-9.1.0-hdf63c60_0\n",
            "unlinking: libstdcxx-ng-9.1.0-hdf63c60_0\n",
            "unlinking: ncurses-6.2-he6710b0_1\n",
            "unlinking: openssl-1.1.1h-h7b6447c_0\n",
            "unlinking: pip-20.2.4-py37_0\n",
            "unlinking: pycparser-2.20-py_2\n",
            "unlinking: pyopenssl-19.1.0-py_1\n",
            "unlinking: pysocks-1.7.1-py37_1\n",
            "unlinking: python-3.7.9-h7579374_0\n",
            "unlinking: readline-8.0-h7b6447c_0\n",
            "unlinking: requests-2.24.0-py_0\n",
            "unlinking: setuptools-50.3.0-py37hb0f4dca_1\n",
            "unlinking: six-1.15.0-py_0\n",
            "unlinking: sqlite-3.33.0-h62c20be_0\n",
            "unlinking: tk-8.6.10-hbc83047_0\n",
            "unlinking: urllib3-1.25.11-py_0\n",
            "unlinking: wheel-0.35.1-py_0\n",
            "unlinking: xz-5.2.5-h7b6447c_0\n",
            "unlinking: yaml-0.2.5-h7b6447c_0\n",
            "unlinking: zlib-1.2.11-h7b6447c_3\n",
            "installation finished.\n",
            "WARNING:\n",
            "    You currently have a PYTHONPATH environment variable set. This may cause\n",
            "    unexpected behavior when running the Python interpreter in Miniconda3.\n",
            "    For best results, please verify that your PYTHONPATH only points to\n",
            "    directories of packages that are compatible with the Python interpreter\n",
            "    in Miniconda3: /usr/local\n",
            "Solving environment: ...working... done\n",
            "\n",
            "## Package Plan ##\n",
            "\n",
            "  environment location: /usr/local\n",
            "\n",
            "  added / updated specs: \n",
            "    - arcgis=1.8.4\n",
            "    - fastai=1.0.60\n",
            "    - libtiff=4.1.0\n",
            "    - pillow=7.1.2\n",
            "    - python=3.7.9\n",
            "    - pytorch=1.4.0\n",
            "    - scikit-image=0.15.0\n",
            "    - torchvision=0.5.0\n",
            "    - ujson\n",
            "\n",
            "\n",
            "The following packages will be UPDATED:\n",
            "\n",
            "    attrs:              20.2.0-py_0             anaconda --> 20.2.0-py_0             anaconda\n",
            "    backcall:           0.2.0-py_0              anaconda --> 0.2.0-py_0              anaconda\n",
            "    beautifulsoup4:     4.9.3-pyhb0f4dca_0      anaconda --> 4.9.3-pyhb0f4dca_0      anaconda\n",
            "    bleach:             3.2.1-py_0              anaconda --> 3.2.1-py_0              anaconda\n",
            "    ca-certificates:    2018.03.07-0                     --> 2020.10.14-0            anaconda\n",
            "    certifi:            2018.4.16-py36_0                 --> 2020.6.20-py37_0        anaconda\n",
            "    cffi:               1.11.5-py36h9745a5d_0            --> 1.14.3-py37he30daa8_0   anaconda\n",
            "    chardet:            3.0.4-py36h0f667ec_1             --> 3.0.4-py37_1003         anaconda\n",
            "    cloudpickle:        1.6.0-py_0              anaconda --> 1.6.0-py_0              anaconda\n",
            "    cryptography:       2.2.2-py36h14c3975_0             --> 3.1.1-py37h1ba5d50_0    anaconda\n",
            "    dask-core:          2.30.0-py_0             anaconda --> 2.30.0-py_0             anaconda\n",
            "    decorator:          4.4.2-py_0              anaconda --> 4.4.2-py_0              anaconda\n",
            "    defusedxml:         0.6.0-py_0              anaconda --> 0.6.0-py_0              anaconda\n",
            "    idna:               2.6-py36h82fb2a8_1               --> 2.10-py_0               anaconda\n",
            "    importlib-metadata: 2.0.0-py_1              anaconda --> 2.0.0-py_1              anaconda\n",
            "    ipywidgets:         7.5.1-py_1              anaconda --> 7.5.1-py_1              anaconda\n",
            "    jeepney:            0.4.3-py_0              anaconda --> 0.4.3-py_0              anaconda\n",
            "    jinja2:             2.11.2-py_0             anaconda --> 2.11.2-py_0             anaconda\n",
            "    jsonschema:         3.2.0-py_2              anaconda --> 3.2.0-py_2              anaconda\n",
            "    jupyter_client:     6.1.7-py_1              esri     --> 6.1.7-py_1              esri    \n",
            "    lerc:               3.0-pyh39e3cac_0        esri     --> 3.0-pyh39e3cac_0        esri    \n",
            "    libedit:            3.1.20170329-h6b74fdf_2          --> 3.1.20191231-h14c3975_1 anaconda\n",
            "    libffi:             3.2.1-hd88cf55_4                 --> 3.3-he6710b0_2          anaconda\n",
            "    libgcc-ng:          7.2.0-hdf63c60_3                 --> 9.1.0-hdf63c60_0        anaconda\n",
            "    libstdcxx-ng:       7.2.0-hdf63c60_3                 --> 9.1.0-hdf63c60_0        anaconda\n",
            "    nbformat:           5.1.3-py_1              esri     --> 5.1.3-py_1              esri    \n",
            "    ncurses:            6.1-hf484d3e_0                   --> 6.2-he6710b0_1          anaconda\n",
            "    networkx:           2.5-py_0                anaconda --> 2.5-py_0                anaconda\n",
            "    ntlm-auth:          1.4.0-py_0              esri     --> 1.4.0-py_0              esri    \n",
            "    nvidia-ml-py3:      7.352.0-py_0            esri     --> 7.352.0-py_0            esri    \n",
            "    oauthlib:           3.1.0-py_0              anaconda --> 3.1.0-py_0              anaconda\n",
            "    olefile:            0.46-py_0               anaconda --> 0.46-py_0               anaconda\n",
            "    openssl:            1.0.2o-h20670df_0                --> 1.1.1h-h7b6447c_0       anaconda\n",
            "    packaging:          20.4-py_0               anaconda --> 20.4-py_0               anaconda\n",
            "    parso:              0.7.0-py_0              anaconda --> 0.7.0-py_0              anaconda\n",
            "    pillow:             7.1.2-0                 esri     --> 7.1.2-0                 esri    \n",
            "    pip:                10.0.1-py36_0                    --> 20.2.4-py37_0           anaconda\n",
            "    prometheus_client:  0.8.0-py_0              esri     --> 0.8.0-py_0              esri    \n",
            "    prompt-toolkit:     3.0.8-py_0              anaconda --> 3.0.8-py_0              anaconda\n",
            "    pycparser:          2.18-py36hf9f622e_1              --> 2.20-py_2               anaconda\n",
            "    pygments:           2.9.0-py_0              esri     --> 2.9.0-py_0              esri    \n",
            "    pyopenssl:          18.0.0-py36_0                    --> 19.1.0-py_1             anaconda\n",
            "    pyparsing:          2.4.7-py_0              anaconda --> 2.4.7-py_0              anaconda\n",
            "    pyshp:              2.1.2-py_0              anaconda --> 2.1.2-py_0              anaconda\n",
            "    pysocks:            1.6.8-py36_0                     --> 1.7.1-py37_1            anaconda\n",
            "    python:             3.6.5-hc3d631a_2                 --> 3.7.9-h7579374_0        anaconda\n",
            "    python-dateutil:    2.8.1-py_0              anaconda --> 2.8.1-py_0              anaconda\n",
            "    pytz:               2020.1-py_0             anaconda --> 2020.1-py_0             anaconda\n",
            "    readline:           7.0-ha6073c6_4                   --> 8.0-h7b6447c_0          anaconda\n",
            "    requests:           2.18.4-py36he2e5f8d_1            --> 2.24.0-py_0             anaconda\n",
            "    requests-oauthlib:  1.3.0-py_0              anaconda --> 1.3.0-py_0              anaconda\n",
            "    requests-toolbelt:  0.9.1-py_0              anaconda --> 0.9.1-py_0              anaconda\n",
            "    requests_ntlm:      1.1.0-py_0              esri     --> 1.1.0-py_0              esri    \n",
            "    setuptools:         39.2.0-py36_0                    --> 50.3.0-py37hb0f4dca_1   anaconda\n",
            "    six:                1.11.0-py36h372c433_1            --> 1.15.0-py_0             esri    \n",
            "    soupsieve:          2.0.1-py_0              anaconda --> 2.0.1-py_0              anaconda\n",
            "    sqlite:             3.23.1-he433501_0                --> 3.33.0-h62c20be_0       anaconda\n",
            "    testpath:           0.4.4-py_0              anaconda --> 0.4.4-py_0              anaconda\n",
            "    tk:                 8.6.7-hc745277_3                 --> 8.6.10-hbc83047_0       anaconda\n",
            "    toolz:              0.11.1-py_0             anaconda --> 0.11.1-py_0             anaconda\n",
            "    tqdm:               4.50.2-py_0             anaconda --> 4.50.2-py_0             anaconda\n",
            "    traitlets:          5.0.5-py_0              anaconda --> 5.0.5-py_0              anaconda\n",
            "    urllib3:            1.22-py36hbe7ace6_0              --> 1.25.11-py_0            anaconda\n",
            "    wasabi:             0.8.0-py_0              anaconda --> 0.8.0-py_0              anaconda\n",
            "    wcwidth:            0.2.5-py_0              anaconda --> 0.2.5-py_0              anaconda\n",
            "    wheel:              0.31.1-py36_0                    --> 0.35.1-py_0             anaconda\n",
            "    xz:                 5.2.4-h14c3975_4                 --> 5.2.5-h7b6447c_0        anaconda\n",
            "    yaml:               0.1.7-had09818_2                 --> 0.2.5-h7b6447c_0        anaconda\n",
            "    zipp:               3.3.1-py_0              anaconda --> 3.3.1-py_0              anaconda\n",
            "    zlib:               1.2.11-ha838bed_2                --> 1.2.11-h7b6447c_3       anaconda\n",
            "\n",
            "Preparing transaction: ...working... done\n",
            "Verifying transaction: ...working... done\n",
            "Executing transaction: ...working... done\n"
          ]
        },
        {
          "output_type": "stream",
          "name": "stderr",
          "text": [
            "--2021-11-25 07:25:34--  https://repo.continuum.io/miniconda/Miniconda3-4.5.4-Linux-x86_64.sh\n",
            "Resolving repo.continuum.io (repo.continuum.io)... 104.18.200.79, 104.18.201.79, 2606:4700::6812:c94f, ...\n",
            "Connecting to repo.continuum.io (repo.continuum.io)|104.18.200.79|:443... connected.\n",
            "HTTP request sent, awaiting response... 301 Moved Permanently\n",
            "Location: https://repo.anaconda.com/miniconda/Miniconda3-4.5.4-Linux-x86_64.sh [following]\n",
            "--2021-11-25 07:25:34--  https://repo.anaconda.com/miniconda/Miniconda3-4.5.4-Linux-x86_64.sh\n",
            "Resolving repo.anaconda.com (repo.anaconda.com)... 104.16.130.3, 104.16.131.3, 2606:4700::6810:8303, ...\n",
            "Connecting to repo.anaconda.com (repo.anaconda.com)|104.16.130.3|:443... connected.\n",
            "HTTP request sent, awaiting response... 200 OK\n",
            "Length: 58468498 (56M) [application/x-sh]\n",
            "Saving to: ‘Miniconda3-4.5.4-Linux-x86_64.sh.2’\n",
            "\n",
            "     0K .......... .......... .......... .......... ..........  0% 37.6M 1s\n",
            "    50K .......... .......... .......... .......... ..........  0% 10.1M 4s\n",
            "   100K .......... .......... .......... .......... ..........  0% 13.5M 4s\n",
            "   150K .......... .......... .......... .......... ..........  0% 26.2M 3s\n",
            "   200K .......... .......... .......... .......... ..........  0% 11.6M 4s\n",
            "   250K .......... .......... .......... .......... ..........  0% 71.1M 3s\n",
            "   300K .......... .......... .......... .......... ..........  0% 31.7M 3s\n",
            "   350K .......... .......... .......... .......... ..........  0% 14.8M 3s\n",
            "   400K .......... .......... .......... .......... ..........  0% 17.0M 3s\n",
            "   450K .......... .......... .......... .......... ..........  0% 24.5M 3s\n",
            "   500K .......... .......... .......... .......... ..........  0% 21.3M 3s\n",
            "   550K .......... .......... .......... .......... ..........  1% 52.3M 3s\n",
            "   600K .......... .......... .......... .......... ..........  1% 30.4M 3s\n",
            "   650K .......... .......... .......... .......... ..........  1% 36.0M 3s\n",
            "   700K .......... .......... .......... .......... ..........  1% 55.9M 3s\n",
            "   750K .......... .......... .......... .......... ..........  1% 50.6M 2s\n",
            "   800K .......... .......... .......... .......... ..........  1% 58.5M 2s\n",
            "   850K .......... .......... .......... .......... ..........  1% 70.1M 2s\n",
            "   900K .......... .......... .......... .......... ..........  1% 56.4M 2s\n",
            "   950K .......... .......... .......... .......... ..........  1% 47.7M 2s\n",
            "  1000K .......... .......... .......... .......... ..........  1% 57.2M 2s\n",
            "  1050K .......... .......... .......... .......... ..........  1% 71.0M 2s\n",
            "  1100K .......... .......... .......... .......... ..........  2% 55.9M 2s\n",
            "  1150K .......... .......... .......... .......... ..........  2% 49.7M 2s\n",
            "  1200K .......... .......... .......... .......... ..........  2% 83.2M 2s\n",
            "  1250K .......... .......... .......... .......... ..........  2% 50.3M 2s\n",
            "  1300K .......... .......... .......... .......... ..........  2%  157M 2s\n",
            "  1350K .......... .......... .......... .......... ..........  2%  256M 2s\n",
            "  1400K .......... .......... .......... .......... ..........  2%  304M 2s\n",
            "  1450K .......... .......... .......... .......... ..........  2%  328M 2s\n",
            "  1500K .......... .......... .......... .......... ..........  2%  253M 2s\n",
            "  1550K .......... .......... .......... .......... ..........  2%  201M 2s\n",
            "  1600K .......... .......... .......... .......... ..........  2%  126M 1s\n",
            "  1650K .......... .......... .......... .......... ..........  2%  255M 1s\n",
            "  1700K .......... .......... .......... .......... ..........  3%  232M 1s\n",
            "  1750K .......... .......... .......... .......... ..........  3%  192M 1s\n",
            "  1800K .......... .......... .......... .......... ..........  3%  277M 1s\n",
            "  1850K .......... .......... .......... .......... ..........  3%  295M 1s\n",
            "  1900K .......... .......... .......... .......... ..........  3%  106M 1s\n",
            "  1950K .......... .......... .......... .......... ..........  3%  216M 1s\n",
            "  2000K .......... .......... .......... .......... ..........  3%  293M 1s\n",
            "  2050K .......... .......... .......... .......... ..........  3%  164M 1s\n",
            "  2100K .......... .......... .......... .......... ..........  3%  203M 1s\n",
            "  2150K .......... .......... .......... .......... ..........  3%  227M 1s\n",
            "  2200K .......... .......... .......... .......... ..........  3%  108M 1s\n",
            "  2250K .......... .......... .......... .......... ..........  4%  228M 1s\n",
            "  2300K .......... .......... .......... .......... ..........  4%  324M 1s\n",
            "  2350K .......... .......... .......... .......... ..........  4%  270M 1s\n",
            "  2400K .......... .......... .......... .......... ..........  4%  323M 1s\n",
            "  2450K .......... .......... .......... .......... ..........  4%  312M 1s\n",
            "  2500K .......... .......... .......... .......... ..........  4%  329M 1s\n",
            "  2550K .......... .......... .......... .......... ..........  4%  257M 1s\n",
            "  2600K .......... .......... .......... .......... ..........  4%  310M 1s\n",
            "  2650K .......... .......... .......... .......... ..........  4%  334M 1s\n",
            "  2700K .......... .......... .......... .......... ..........  4% 24.0M 1s\n",
            "  2750K .......... .......... .......... .......... ..........  4%  150M 1s\n",
            "  2800K .......... .......... .......... .......... ..........  4%  323M 1s\n",
            "  2850K .......... .......... .......... .......... ..........  5%  253M 1s\n",
            "  2900K .......... .......... .......... .......... ..........  5%  149M 1s\n",
            "  2950K .......... .......... .......... .......... ..........  5%  188M 1s\n",
            "  3000K .......... .......... .......... .......... ..........  5%  248M 1s\n",
            "  3050K .......... .......... .......... .......... ..........  5%  123M 1s\n",
            "  3100K .......... .......... .......... .......... ..........  5%  167M 1s\n",
            "  3150K .......... .......... .......... .......... ..........  5%  148M 1s\n",
            "  3200K .......... .......... .......... .......... ..........  5%  164M 1s\n",
            "  3250K .......... .......... .......... .......... ..........  5%  124M 1s\n",
            "  3300K .......... .......... .......... .......... ..........  5%  134M 1s\n",
            "  3350K .......... .......... .......... .......... ..........  5%  172M 1s\n",
            "  3400K .......... .......... .......... .......... ..........  6%  200M 1s\n",
            "  3450K .......... .......... .......... .......... ..........  6%  316M 1s\n",
            "  3500K .......... .......... .......... .......... ..........  6%  237M 1s\n",
            "  3550K .......... .......... .......... .......... ..........  6%  192M 1s\n",
            "  3600K .......... .......... .......... .......... ..........  6%  181M 1s\n",
            "  3650K .......... .......... .......... .......... ..........  6%  185M 1s\n",
            "  3700K .......... .......... .......... .......... ..........  6%  184M 1s\n",
            "  3750K .......... .......... .......... .......... ..........  6%  159M 1s\n",
            "  3800K .......... .......... .......... .......... ..........  6%  174M 1s\n",
            "  3850K .......... .......... .......... .......... ..........  6%  204M 1s\n",
            "  3900K .......... .......... .......... .......... ..........  6%  255M 1s\n",
            "  3950K .......... .......... .......... .......... ..........  7%  189M 1s\n",
            "  4000K .......... .......... .......... .......... ..........  7%  260M 1s\n",
            "  4050K .......... .......... .......... .......... ..........  7%  310M 1s\n",
            "  4100K .......... .......... .......... .......... ..........  7%  288M 1s\n",
            "  4150K .......... .......... .......... .......... ..........  7%  283M 1s\n",
            "  4200K .......... .......... .......... .......... ..........  7%  201M 1s\n",
            "  4250K .......... .......... .......... .......... ..........  7%  187M 1s\n",
            "  4300K .......... .......... .......... .......... ..........  7%  193M 1s\n",
            "  4350K .......... .......... .......... .......... ..........  7%  158M 1s\n",
            "  4400K .......... .......... .......... .......... ..........  7%  241M 1s\n",
            "  4450K .......... .......... .......... .......... ..........  7%  171M 1s\n",
            "  4500K .......... .......... .......... .......... ..........  7%  172M 1s\n",
            "  4550K .......... .......... .......... .......... ..........  8%  163M 1s\n",
            "  4600K .......... .......... .......... .......... ..........  8%  249M 1s\n",
            "  4650K .......... .......... .......... .......... ..........  8%  324M 1s\n",
            "  4700K .......... .......... .......... .......... ..........  8%  287M 1s\n",
            "  4750K .......... .......... .......... .......... ..........  8%  156M 1s\n",
            "  4800K .......... .......... .......... .......... ..........  8%  181M 1s\n",
            "  4850K .......... .......... .......... .......... ..........  8%  197M 1s\n",
            "  4900K .......... .......... .......... .......... ..........  8%  322M 1s\n",
            "  4950K .......... .......... .......... .......... ..........  8%  284M 1s\n",
            "  5000K .......... .......... .......... .......... ..........  8%  314M 1s\n",
            "  5050K .......... .......... .......... .......... ..........  8%  294M 1s\n",
            "  5100K .......... .......... .......... .......... ..........  9%  175M 1s\n",
            "  5150K .......... .......... .......... .......... ..........  9%  230M 1s\n",
            "  5200K .......... .......... .......... .......... ..........  9%  335M 1s\n",
            "  5250K .......... .......... .......... .......... ..........  9%  211M 1s\n",
            "  5300K .......... .......... .......... .......... ..........  9%  175M 1s\n",
            "  5350K .......... .......... .......... .......... ..........  9%  178M 1s\n",
            "  5400K .......... .......... .......... .......... ..........  9%  190M 1s\n",
            "  5450K .......... .......... .......... .......... ..........  9%  195M 1s\n",
            "  5500K .......... .......... .......... .......... ..........  9% 40.5M 1s\n",
            "  5550K .......... .......... .......... .......... ..........  9% 33.7M 1s\n",
            "  5600K .......... .......... .......... .......... ..........  9% 44.1M 1s\n",
            "  5650K .......... .......... .......... .......... ..........  9%  177M 1s\n",
            "  5700K .......... .......... .......... .......... .......... 10% 85.2M 1s\n",
            "  5750K .......... .......... .......... .......... .......... 10%  113M 1s\n",
            "  5800K .......... .......... .......... .......... .......... 10%  119M 1s\n",
            "  5850K .......... .......... .......... .......... .......... 10%  184M 1s\n",
            "  5900K .......... .......... .......... .......... .......... 10% 93.3M 1s\n",
            "  5950K .......... .......... .......... .......... .......... 10% 74.6M 1s\n",
            "  6000K .......... .......... .......... .......... .......... 10%  176M 1s\n",
            "  6050K .......... .......... .......... .......... .......... 10%  184M 1s\n",
            "  6100K .......... .......... .......... .......... .......... 10%  115M 1s\n",
            "  6150K .......... .......... .......... .......... .......... 10%  104M 1s\n",
            "  6200K .......... .......... .......... .......... .......... 10% 84.7M 1s\n",
            "  6250K .......... .......... .......... .......... .......... 11%  182M 1s\n",
            "  6300K .......... .......... .......... .......... .......... 11%  136M 1s\n",
            "  6350K .......... .......... .......... .......... .......... 11% 61.9M 1s\n",
            "  6400K .......... .......... .......... .......... .......... 11%  125M 1s\n",
            "  6450K .......... .......... .......... .......... .......... 11% 87.2M 1s\n",
            "  6500K .......... .......... .......... .......... .......... 11%  187M 1s\n",
            "  6550K .......... .......... .......... .......... .......... 11%  294M 1s\n",
            "  6600K .......... .......... .......... .......... .......... 11%  323M 1s\n",
            "  6650K .......... .......... .......... .......... .......... 11%  295M 1s\n",
            "  6700K .......... .......... .......... .......... .......... 11%  273M 1s\n",
            "  6750K .......... .......... .......... .......... .......... 11%  217M 1s\n",
            "  6800K .......... .......... .......... .......... .......... 11%  179M 1s\n",
            "  6850K .......... .......... .......... .......... .......... 12%  174M 1s\n",
            "  6900K .......... .......... .......... .......... .......... 12%  234M 1s\n",
            "  6950K .......... .......... .......... .......... .......... 12%  282M 1s\n",
            "  7000K .......... .......... .......... .......... .......... 12%  227M 1s\n",
            "  7050K .......... .......... .......... .......... .......... 12%  204M 1s\n",
            "  7100K .......... .......... .......... .......... .......... 12%  191M 1s\n",
            "  7150K .......... .......... .......... .......... .......... 12%  151M 1s\n",
            "  7200K .......... .......... .......... .......... .......... 12%  326M 1s\n",
            "  7250K .......... .......... .......... .......... .......... 12%  339M 1s\n",
            "  7300K .......... .......... .......... .......... .......... 12%  324M 1s\n",
            "  7350K .......... .......... .......... .......... .......... 12%  270M 1s\n",
            "  7400K .......... .......... .......... .......... .......... 13%  281M 1s\n",
            "  7450K .......... .......... .......... .......... .......... 13%  309M 1s\n",
            "  7500K .......... .......... .......... .......... .......... 13%  150M 1s\n",
            "  7550K .......... .......... .......... .......... .......... 13%  212M 1s\n",
            "  7600K .......... .......... .......... .......... .......... 13%  276M 1s\n",
            "  7650K .......... .......... .......... .......... .......... 13% 66.2M 1s\n",
            "  7700K .......... .......... .......... .......... .......... 13% 75.4M 1s\n",
            "  7750K .......... .......... .......... .......... .......... 13%  163M 1s\n",
            "  7800K .......... .......... .......... .......... .......... 13%  155M 1s\n",
            "  7850K .......... .......... .......... .......... .......... 13%  170M 1s\n",
            "  7900K .......... .......... .......... .......... .......... 13% 93.0M 1s\n",
            "  7950K .......... .......... .......... .......... .......... 14% 64.2M 1s\n",
            "  8000K .......... .......... .......... .......... .......... 14%  209M 1s\n",
            "  8050K .......... .......... .......... .......... .......... 14%  172M 1s\n",
            "  8100K .......... .......... .......... .......... .......... 14%  180M 1s\n",
            "  8150K .......... .......... .......... .......... .......... 14%  180M 1s\n",
            "  8200K .......... .......... .......... .......... .......... 14%  178M 1s\n",
            "  8250K .......... .......... .......... .......... .......... 14%  172M 1s\n",
            "  8300K .......... .......... .......... .......... .......... 14%  182M 1s\n",
            "  8350K .......... .......... .......... .......... .......... 14%  153M 0s\n",
            "  8400K .......... .......... .......... .......... .......... 14%  188M 0s\n",
            "  8450K .......... .......... .......... .......... .......... 14%  183M 0s\n",
            "  8500K .......... .......... .......... .......... .......... 14%  195M 0s\n",
            "  8550K .......... .......... .......... .......... .......... 15%  187M 0s\n",
            "  8600K .......... .......... .......... .......... .......... 15%  173M 0s\n",
            "  8650K .......... .......... .......... .......... .......... 15%  177M 0s\n",
            "  8700K .......... .......... .......... .......... .......... 15%  194M 0s\n",
            "  8750K .......... .......... .......... .......... .......... 15%  159M 0s\n",
            "  8800K .......... .......... .......... .......... .......... 15%  101M 0s\n",
            "  8850K .......... .......... .......... .......... .......... 15%  103M 0s\n",
            "  8900K .......... .......... .......... .......... .......... 15% 93.9M 0s\n",
            "  8950K .......... .......... .......... .......... .......... 15%  177M 0s\n",
            "  9000K .......... .......... .......... .......... .......... 15%  186M 0s\n",
            "  9050K .......... .......... .......... .......... .......... 15%  173M 0s\n",
            "  9100K .......... .......... .......... .......... .......... 16%  170M 0s\n",
            "  9150K .......... .......... .......... .......... .......... 16%  161M 0s\n",
            "  9200K .......... .......... .......... .......... .......... 16%  172M 0s\n",
            "  9250K .......... .......... .......... .......... .......... 16%  170M 0s\n",
            "  9300K .......... .......... .......... .......... .......... 16%  202M 0s\n",
            "  9350K .......... .......... .......... .......... .......... 16% 62.2M 0s\n",
            "  9400K .......... .......... .......... .......... .......... 16% 75.8M 0s\n",
            "  9450K .......... .......... .......... .......... .......... 16% 82.6M 0s\n",
            "  9500K .......... .......... .......... .......... .......... 16%  120M 0s\n",
            "  9550K .......... .......... .......... .......... .......... 16% 29.9M 0s\n",
            "  9600K .......... .......... .......... .......... .......... 16%  150M 0s\n",
            "  9650K .......... .......... .......... .......... .......... 16% 76.8M 0s\n",
            "  9700K .......... .......... .......... .......... .......... 17% 72.8M 0s\n",
            "  9750K .......... .......... .......... .......... .......... 17% 90.2M 0s\n",
            "  9800K .......... .......... .......... .......... .......... 17% 89.8M 0s\n",
            "  9850K .......... .......... .......... .......... .......... 17%  131M 0s\n",
            "  9900K .......... .......... .......... .......... .......... 17%  117M 0s\n",
            "  9950K .......... .......... .......... .......... .......... 17% 79.6M 0s\n",
            " 10000K .......... .......... .......... .......... .......... 17% 80.7M 0s\n",
            " 10050K .......... .......... .......... .......... .......... 17% 77.4M 0s\n",
            " 10100K .......... .......... .......... .......... .......... 17%  115M 0s\n",
            " 10150K .......... .......... .......... .......... .......... 17%  121M 0s\n",
            " 10200K .......... .......... .......... .......... .......... 17%  191M 0s\n",
            " 10250K .......... .......... .......... .......... .......... 18%  237M 0s\n",
            " 10300K .......... .......... .......... .......... .......... 18%  169M 0s\n",
            " 10350K .......... .......... .......... .......... .......... 18%  111M 0s\n",
            " 10400K .......... .......... .......... .......... .......... 18%  154M 0s\n",
            " 10450K .......... .......... .......... .......... .......... 18%  311M 0s\n",
            " 10500K .......... .......... .......... .......... .......... 18%  318M 0s\n",
            " 10550K .......... .......... .......... .......... .......... 18%  281M 0s\n",
            " 10600K .......... .......... .......... .......... .......... 18%  281M 0s\n",
            " 10650K .......... .......... .......... .......... .......... 18%  269M 0s\n",
            " 10700K .......... .......... .......... .......... .......... 18%  308M 0s\n",
            " 10750K .......... .......... .......... .......... .......... 18%  191M 0s\n",
            " 10800K .......... .......... .......... .......... .......... 19%  166M 0s\n",
            " 10850K .......... .......... .......... .......... .......... 19%  225M 0s\n",
            " 10900K .......... .......... .......... .......... .......... 19%  260M 0s\n",
            " 10950K .......... .......... .......... .......... .......... 19%  288M 0s\n",
            " 11000K .......... .......... .......... .......... .......... 19%  309M 0s\n",
            " 11050K .......... .......... .......... .......... .......... 19%  325M 0s\n",
            " 11100K .......... .......... .......... .......... .......... 19%  307M 0s\n",
            " 11150K .......... .......... .......... .......... .......... 19% 93.7M 0s\n",
            " 11200K .......... .......... .......... .......... .......... 19% 44.4M 0s\n",
            " 11250K .......... .......... .......... .......... .......... 19%  182M 0s\n",
            " 11300K .......... .......... .......... .......... .......... 19%  187M 0s\n",
            " 11350K .......... .......... .......... .......... .......... 19% 36.1M 0s\n",
            " 11400K .......... .......... .......... .......... .......... 20%  157M 0s\n",
            " 11450K .......... .......... .......... .......... .......... 20%  173M 0s\n",
            " 11500K .......... .......... .......... .......... .......... 20% 74.6M 0s\n",
            " 11550K .......... .......... .......... .......... .......... 20% 69.4M 0s\n",
            " 11600K .......... .......... .......... .......... .......... 20% 90.7M 0s\n",
            " 11650K .......... .......... .......... .......... .......... 20%  151M 0s\n",
            " 11700K .......... .......... .......... .......... .......... 20% 57.6M 0s\n",
            " 11750K .......... .......... .......... .......... .......... 20% 43.3M 0s\n",
            " 11800K .......... .......... .......... .......... .......... 20% 69.0M 0s\n",
            " 11850K .......... .......... .......... .......... .......... 20% 78.8M 0s\n",
            " 11900K .......... .......... .......... .......... .......... 20% 77.6M 0s\n",
            " 11950K .......... .......... .......... .......... .......... 21% 58.9M 0s\n",
            " 12000K .......... .......... .......... .......... .......... 21%  161M 0s\n",
            " 12050K .......... .......... .......... .......... .......... 21% 59.8M 0s\n",
            " 12100K .......... .......... .......... .......... .......... 21% 61.7M 0s\n",
            " 12150K .......... .......... .......... .......... .......... 21% 64.2M 0s\n",
            " 12200K .......... .......... .......... .......... .......... 21%  101M 0s\n",
            " 12250K .......... .......... .......... .......... .......... 21%  320M 0s\n",
            " 12300K .......... .......... .......... .......... .......... 21%  337M 0s\n",
            " 12350K .......... .......... .......... .......... .......... 21%  256M 0s\n",
            " 12400K .......... .......... .......... .......... .......... 21%  317M 0s\n",
            " 12450K .......... .......... .......... .......... .......... 21%  330M 0s\n",
            " 12500K .......... .......... .......... .......... .......... 21%  199M 0s\n",
            " 12550K .......... .......... .......... .......... .......... 22%  171M 0s\n",
            " 12600K .......... .......... .......... .......... .......... 22%  194M 0s\n",
            " 12650K .......... .......... .......... .......... .......... 22%  179M 0s\n",
            " 12700K .......... .......... .......... .......... .......... 22%  178M 0s\n",
            " 12750K .......... .......... .......... .......... .......... 22%  256M 0s\n",
            " 12800K .......... .......... .......... .......... .......... 22%  294M 0s\n",
            " 12850K .......... .......... .......... .......... .......... 22%  338M 0s\n",
            " 12900K .......... .......... .......... .......... .......... 22%  329M 0s\n",
            " 12950K .......... .......... .......... .......... .......... 22%  252M 0s\n",
            " 13000K .......... .......... .......... .......... .......... 22%  343M 0s\n",
            " 13050K .......... .......... .......... .......... .......... 22%  328M 0s\n",
            " 13100K .......... .......... .......... .......... .......... 23%  267M 0s\n",
            " 13150K .......... .......... .......... .......... .......... 23%  262M 0s\n",
            " 13200K .......... .......... .......... .......... .......... 23%  331M 0s\n",
            " 13250K .......... .......... .......... .......... .......... 23%  235M 0s\n",
            " 13300K .......... .......... .......... .......... .......... 23%  245M 0s\n",
            " 13350K .......... .......... .......... .......... .......... 23% 89.4M 0s\n",
            " 13400K .......... .......... .......... .......... .......... 23%  165M 0s\n",
            " 13450K .......... .......... .......... .......... .......... 23%  159M 0s\n",
            " 13500K .......... .......... .......... .......... .......... 23%  194M 0s\n",
            " 13550K .......... .......... .......... .......... .......... 23%  143M 0s\n",
            " 13600K .......... .......... .......... .......... .......... 23%  177M 0s\n",
            " 13650K .......... .......... .......... .......... .......... 23%  182M 0s\n",
            " 13700K .......... .......... .......... .......... .......... 24%  194M 0s\n",
            " 13750K .......... .......... .......... .......... .......... 24%  158M 0s\n",
            " 13800K .......... .......... .......... .......... .......... 24%  182M 0s\n",
            " 13850K .......... .......... .......... .......... .......... 24%  192M 0s\n",
            " 13900K .......... .......... .......... .......... .......... 24%  175M 0s\n",
            " 13950K .......... .......... .......... .......... .......... 24%  146M 0s\n",
            " 14000K .......... .......... .......... .......... .......... 24%  189M 0s\n",
            " 14050K .......... .......... .......... .......... .......... 24%  168M 0s\n",
            " 14100K .......... .......... .......... .......... .......... 24%  138M 0s\n",
            " 14150K .......... .......... .......... .......... .......... 24%  169M 0s\n",
            " 14200K .......... .......... .......... .......... .......... 24%  190M 0s\n",
            " 14250K .......... .......... .......... .......... .......... 25%  182M 0s\n",
            " 14300K .......... .......... .......... .......... .......... 25%  173M 0s\n",
            " 14350K .......... .......... .......... .......... .......... 25%  156M 0s\n",
            " 14400K .......... .......... .......... .......... .......... 25%  300M 0s\n",
            " 14450K .......... .......... .......... .......... .......... 25%  332M 0s\n",
            " 14500K .......... .......... .......... .......... .......... 25%  233M 0s\n",
            " 14550K .......... .......... .......... .......... .......... 25%  270M 0s\n",
            " 14600K .......... .......... .......... .......... .......... 25%  232M 0s\n",
            " 14650K .......... .......... .......... .......... .......... 25%  180M 0s\n",
            " 14700K .......... .......... .......... .......... .......... 25%  185M 0s\n",
            " 14750K .......... .......... .......... .......... .......... 25%  188M 0s\n",
            " 14800K .......... .......... .......... .......... .......... 26%  220M 0s\n",
            " 14850K .......... .......... .......... .......... .......... 26%  180M 0s\n",
            " 14900K .......... .......... .......... .......... .......... 26%  203M 0s\n",
            " 14950K .......... .......... .......... .......... .......... 26%  215M 0s\n",
            " 15000K .......... .......... .......... .......... .......... 26%  279M 0s\n",
            " 15050K .......... .......... .......... .......... .......... 26%  191M 0s\n",
            " 15100K .......... .......... .......... .......... .......... 26%  134M 0s\n",
            " 15150K .......... .......... .......... .......... .......... 26%  125M 0s\n",
            " 15200K .......... .......... .......... .......... .......... 26%  127M 0s\n",
            " 15250K .......... .......... .......... .......... .......... 26%  152M 0s\n",
            " 15300K .......... .......... .......... .......... .......... 26%  176M 0s\n",
            " 15350K .......... .......... .......... .......... .......... 26%  149M 0s\n",
            " 15400K .......... .......... .......... .......... .......... 27%  162M 0s\n",
            " 15450K .......... .......... .......... .......... .......... 27%  180M 0s\n",
            " 15500K .......... .......... .......... .......... .......... 27%  174M 0s\n",
            " 15550K .......... .......... .......... .......... .......... 27% 78.6M 0s\n",
            " 15600K .......... .......... .......... .......... .......... 27%  172M 0s\n",
            " 15650K .......... .......... .......... .......... .......... 27%  179M 0s\n",
            " 15700K .......... .......... .......... .......... .......... 27%  194M 0s\n",
            " 15750K .......... .......... .......... .......... .......... 27%  156M 0s\n",
            " 15800K .......... .......... .......... .......... .......... 27%  194M 0s\n",
            " 15850K .......... .......... .......... .......... .......... 27%  203M 0s\n",
            " 15900K .......... .......... .......... .......... .......... 27%  207M 0s\n",
            " 15950K .......... .......... .......... .......... .......... 28%  158M 0s\n",
            " 16000K .......... .......... .......... .......... .......... 28%  159M 0s\n",
            " 16050K .......... .......... .......... .......... .......... 28%  244M 0s\n",
            " 16100K .......... .......... .......... .......... .......... 28%  245M 0s\n",
            " 16150K .......... .......... .......... .......... .......... 28%  298M 0s\n",
            " 16200K .......... .......... .......... .......... .......... 28%  333M 0s\n",
            " 16250K .......... .......... .......... .......... .......... 28%  310M 0s\n",
            " 16300K .......... .......... .......... .......... .......... 28%  293M 0s\n",
            " 16350K .......... .......... .......... .......... .......... 28%  272M 0s\n",
            " 16400K .......... .......... .......... .......... .......... 28%  227M 0s\n",
            " 16450K .......... .......... .......... .......... .......... 28%  281M 0s\n",
            " 16500K .......... .......... .......... .......... .......... 28%  316M 0s\n",
            " 16550K .......... .......... .......... .......... .......... 29%  308M 0s\n",
            " 16600K .......... .......... .......... .......... .......... 29%  313M 0s\n",
            " 16650K .......... .......... .......... .......... .......... 29%  336M 0s\n",
            " 16700K .......... .......... .......... .......... .......... 29%  279M 0s\n",
            " 16750K .......... .......... .......... .......... .......... 29%  176M 0s\n",
            " 16800K .......... .......... .......... .......... .......... 29%  188M 0s\n",
            " 16850K .......... .......... .......... .......... .......... 29%  204M 0s\n",
            " 16900K .......... .......... .......... .......... .......... 29%  157M 0s\n",
            " 16950K .......... .......... .......... .......... .......... 29%  224M 0s\n",
            " 17000K .......... .......... .......... .......... .......... 29%  316M 0s\n",
            " 17050K .......... .......... .......... .......... .......... 29%  301M 0s\n",
            " 17100K .......... .......... .......... .......... .......... 30%  336M 0s\n",
            " 17150K .......... .......... .......... .......... .......... 30%  188M 0s\n",
            " 17200K .......... .......... .......... .......... .......... 30%  324M 0s\n",
            " 17250K .......... .......... .......... .......... .......... 30%  295M 0s\n",
            " 17300K .......... .......... .......... .......... .......... 30%  317M 0s\n",
            " 17350K .......... .......... .......... .......... .......... 30%  265M 0s\n",
            " 17400K .......... .......... .......... .......... .......... 30%  318M 0s\n",
            " 17450K .......... .......... .......... .......... .......... 30%  233M 0s\n",
            " 17500K .......... .......... .......... .......... .......... 30%  284M 0s\n",
            " 17550K .......... .......... .......... .......... .......... 30%  260M 0s\n",
            " 17600K .......... .......... .......... .......... .......... 30%  325M 0s\n",
            " 17650K .......... .......... .......... .......... .......... 30%  320M 0s\n",
            " 17700K .......... .......... .......... .......... .......... 31%  295M 0s\n",
            " 17750K .......... .......... .......... .......... .......... 31%  286M 0s\n",
            " 17800K .......... .......... .......... .......... .......... 31%  334M 0s\n",
            " 17850K .......... .......... .......... .......... .......... 31%  318M 0s\n",
            " 17900K .......... .......... .......... .......... .......... 31%  331M 0s\n",
            " 17950K .......... .......... .......... .......... .......... 31%  263M 0s\n",
            " 18000K .......... .......... .......... .......... .......... 31%  320M 0s\n",
            " 18050K .......... .......... .......... .......... .......... 31%  200M 0s\n",
            " 18100K .......... .......... .......... .......... .......... 31%  298M 0s\n",
            " 18150K .......... .......... .......... .......... .......... 31%  292M 0s\n",
            " 18200K .......... .......... .......... .......... .......... 31%  335M 0s\n",
            " 18250K .......... .......... .......... .......... .......... 32%  316M 0s\n",
            " 18300K .......... .......... .......... .......... .......... 32%  312M 0s\n",
            " 18350K .......... .......... .......... .......... .......... 32%  257M 0s\n",
            " 18400K .......... .......... .......... .......... .......... 32%  305M 0s\n",
            " 18450K .......... .......... .......... .......... .......... 32% 71.3M 0s\n",
            " 18500K .......... .......... .......... .......... .......... 32%  163M 0s\n",
            " 18550K .......... .......... .......... .......... .......... 32%  160M 0s\n",
            " 18600K .......... .......... .......... .......... .......... 32%  219M 0s\n",
            " 18650K .......... .......... .......... .......... .......... 32%  203M 0s\n",
            " 18700K .......... .......... .......... .......... .......... 32% 66.9M 0s\n",
            " 18750K .......... .......... .......... .......... .......... 32% 67.0M 0s\n",
            " 18800K .......... .......... .......... .......... .......... 33%  167M 0s\n",
            " 18850K .......... .......... .......... .......... .......... 33%  175M 0s\n",
            " 18900K .......... .......... .......... .......... .......... 33%  223M 0s\n",
            " 18950K .......... .......... .......... .......... .......... 33%  199M 0s\n",
            " 19000K .......... .......... .......... .......... .......... 33%  212M 0s\n",
            " 19050K .......... .......... .......... .......... .......... 33%  195M 0s\n",
            " 19100K .......... .......... .......... .......... .......... 33%  212M 0s\n",
            " 19150K .......... .......... .......... .......... .......... 33%  179M 0s\n",
            " 19200K .......... .......... .......... .......... .......... 33%  145M 0s\n",
            " 19250K .......... .......... .......... .......... .......... 33% 40.3M 0s\n",
            " 19300K .......... .......... .......... .......... .......... 33% 45.5M 0s\n",
            " 19350K .......... .......... .......... .......... .......... 33% 38.3M 0s\n",
            " 19400K .......... .......... .......... .......... .......... 34% 44.3M 0s\n",
            " 19450K .......... .......... .......... .......... .......... 34% 42.5M 0s\n",
            " 19500K .......... .......... .......... .......... .......... 34% 40.9M 0s\n",
            " 19550K .......... .......... .......... .......... .......... 34% 35.5M 0s\n",
            " 19600K .......... .......... .......... .......... .......... 34% 42.7M 0s\n",
            " 19650K .......... .......... .......... .......... .......... 34% 41.8M 0s\n",
            " 19700K .......... .......... .......... .......... .......... 34% 39.3M 0s\n",
            " 19750K .......... .......... .......... .......... .......... 34%  192M 0s\n",
            " 19800K .......... .......... .......... .......... .......... 34%  227M 0s\n",
            " 19850K .......... .......... .......... .......... .......... 34%  224M 0s\n",
            " 19900K .......... .......... .......... .......... .......... 34%  215M 0s\n",
            " 19950K .......... .......... .......... .......... .......... 35%  167M 0s\n",
            " 20000K .......... .......... .......... .......... .......... 35%  222M 0s\n",
            " 20050K .......... .......... .......... .......... .......... 35%  221M 0s\n",
            " 20100K .......... .......... .......... .......... .......... 35%  211M 0s\n",
            " 20150K .......... .......... .......... .......... .......... 35%  180M 0s\n",
            " 20200K .......... .......... .......... .......... .......... 35%  213M 0s\n",
            " 20250K .......... .......... .......... .......... .......... 35%  216M 0s\n",
            " 20300K .......... .......... .......... .......... .......... 35%  218M 0s\n",
            " 20350K .......... .......... .......... .......... .......... 35%  171M 0s\n",
            " 20400K .......... .......... .......... .......... .......... 35% 22.7M 0s\n",
            " 20450K .......... .......... .......... .......... .......... 35% 31.0M 0s\n",
            " 20500K .......... .......... .......... .......... .......... 35% 31.0M 0s\n",
            " 20550K .......... .......... .......... .......... .......... 36% 29.7M 0s\n",
            " 20600K .......... .......... .......... .......... .......... 36% 31.5M 0s\n",
            " 20650K .......... .......... .......... .......... .......... 36% 30.3M 0s\n",
            " 20700K .......... .......... .......... .......... .......... 36% 32.9M 0s\n",
            " 20750K .......... .......... .......... .......... .......... 36% 27.5M 0s\n",
            " 20800K .......... .......... .......... .......... .......... 36%  157M 0s\n",
            " 20850K .......... .......... .......... .......... .......... 36%  104M 0s\n",
            " 20900K .......... .......... .......... .......... .......... 36%  290M 0s\n",
            " 20950K .......... .......... .......... .......... .......... 36%  209M 0s\n",
            " 21000K .......... .......... .......... .......... .......... 36%  236M 0s\n",
            " 21050K .......... .......... .......... .......... .......... 36%  142M 0s\n",
            " 21100K .......... .......... .......... .......... .......... 37%  302M 0s\n",
            " 21150K .......... .......... .......... .......... .......... 37%  244M 0s\n",
            " 21200K .......... .......... .......... .......... .......... 37%  186M 0s\n",
            " 21250K .......... .......... .......... .......... .......... 37%  302M 0s\n",
            " 21300K .......... .......... .......... .......... .......... 37%  212M 0s\n",
            " 21350K .......... .......... .......... .......... .......... 37%  157M 0s\n",
            " 21400K .......... .......... .......... .......... .......... 37%  234M 0s\n",
            " 21450K .......... .......... .......... .......... .......... 37%  299M 0s\n",
            " 21500K .......... .......... .......... .......... .......... 37%  306M 0s\n",
            " 21550K .......... .......... .......... .......... .......... 37%  135M 0s\n",
            " 21600K .......... .......... .......... .......... .......... 37%  274M 0s\n",
            " 21650K .......... .......... .......... .......... .......... 38%  330M 0s\n",
            " 21700K .......... .......... .......... .......... .......... 38%  319M 0s\n",
            " 21750K .......... .......... .......... .......... .......... 38%  301M 0s\n",
            " 21800K .......... .......... .......... .......... .......... 38%  189M 0s\n",
            " 21850K .......... .......... .......... .......... .......... 38%  178M 0s\n",
            " 21900K .......... .......... .......... .......... .......... 38%  181M 0s\n",
            " 21950K .......... .......... .......... .......... .......... 38%  150M 0s\n",
            " 22000K .......... .......... .......... .......... .......... 38%  190M 0s\n",
            " 22050K .......... .......... .......... .......... .......... 38%  182M 0s\n",
            " 22100K .......... .......... .......... .......... .......... 38%  154M 0s\n",
            " 22150K .......... .......... .......... .......... .......... 38%  157M 0s\n",
            " 22200K .......... .......... .......... .......... .......... 38%  122M 0s\n",
            " 22250K .......... .......... .......... .......... .......... 39%  185M 0s\n",
            " 22300K .......... .......... .......... .......... .......... 39%  164M 0s\n",
            " 22350K .......... .......... .......... .......... .......... 39%  154M 0s\n",
            " 22400K .......... .......... .......... .......... .......... 39%  182M 0s\n",
            " 22450K .......... .......... .......... .......... .......... 39%  185M 0s\n",
            " 22500K .......... .......... .......... .......... .......... 39%  183M 0s\n",
            " 22550K .......... .......... .......... .......... .......... 39%  177M 0s\n",
            " 22600K .......... .......... .......... .......... .......... 39%  183M 0s\n",
            " 22650K .......... .......... .......... .......... .......... 39%  201M 0s\n",
            " 22700K .......... .......... .......... .......... .......... 39%  178M 0s\n",
            " 22750K .......... .......... .......... .......... .......... 39%  152M 0s\n",
            " 22800K .......... .......... .......... .......... .......... 40%  204M 0s\n",
            " 22850K .......... .......... .......... .......... .......... 40%  114M 0s\n",
            " 22900K .......... .......... .......... .......... .......... 40% 60.5M 0s\n",
            " 22950K .......... .......... .......... .......... .......... 40% 81.8M 0s\n",
            " 23000K .......... .......... .......... .......... .......... 40%  166M 0s\n",
            " 23050K .......... .......... .......... .......... .......... 40%  133M 0s\n",
            " 23100K .......... .......... .......... .......... .......... 40%  136M 0s\n",
            " 23150K .......... .......... .......... .......... .......... 40%  139M 0s\n",
            " 23200K .......... .......... .......... .......... .......... 40%  190M 0s\n",
            " 23250K .......... .......... .......... .......... .......... 40%  200M 0s\n",
            " 23300K .......... .......... .......... .......... .......... 40%  117M 0s\n",
            " 23350K .......... .......... .......... .......... .......... 40%  177M 0s\n",
            " 23400K .......... .......... .......... .......... .......... 41%  173M 0s\n",
            " 23450K .......... .......... .......... .......... .......... 41% 88.4M 0s\n",
            " 23500K .......... .......... .......... .......... .......... 41%  186M 0s\n",
            " 23550K .......... .......... .......... .......... .......... 41%  147M 0s\n",
            " 23600K .......... .......... .......... .......... .......... 41%  176M 0s\n",
            " 23650K .......... .......... .......... .......... .......... 41%  205M 0s\n",
            " 23700K .......... .......... .......... .......... .......... 41%  180M 0s\n",
            " 23750K .......... .......... .......... .......... .......... 41%  163M 0s\n",
            " 23800K .......... .......... .......... .......... .......... 41%  170M 0s\n",
            " 23850K .......... .......... .......... .......... .......... 41%  195M 0s\n",
            " 23900K .......... .......... .......... .......... .......... 41%  179M 0s\n",
            " 23950K .......... .......... .......... .......... .......... 42%  153M 0s\n",
            " 24000K .......... .......... .......... .......... .......... 42%  177M 0s\n",
            " 24050K .......... .......... .......... .......... .......... 42%  188M 0s\n",
            " 24100K .......... .......... .......... .......... .......... 42%  186M 0s\n",
            " 24150K .......... .......... .......... .......... .......... 42%  171M 0s\n",
            " 24200K .......... .......... .......... .......... .......... 42%  156M 0s\n",
            " 24250K .......... .......... .......... .......... .......... 42%  176M 0s\n",
            " 24300K .......... .......... .......... .......... .......... 42%  193M 0s\n",
            " 24350K .......... .......... .......... .......... .......... 42%  128M 0s\n",
            " 24400K .......... .......... .......... .......... .......... 42%  190M 0s\n",
            " 24450K .......... .......... .......... .......... .......... 42%  182M 0s\n",
            " 24500K .......... .......... .......... .......... .......... 42%  160M 0s\n",
            " 24550K .......... .......... .......... .......... .......... 43%  169M 0s\n",
            " 24600K .......... .......... .......... .......... .......... 43%  169M 0s\n",
            " 24650K .......... .......... .......... .......... .......... 43%  174M 0s\n",
            " 24700K .......... .......... .......... .......... .......... 43%  182M 0s\n",
            " 24750K .......... .......... .......... .......... .......... 43%  146M 0s\n",
            " 24800K .......... .......... .......... .......... .......... 43%  154M 0s\n",
            " 24850K .......... .......... .......... .......... .......... 43%  179M 0s\n",
            " 24900K .......... .......... .......... .......... .......... 43%  205M 0s\n",
            " 24950K .......... .......... .......... .......... .......... 43%  156M 0s\n",
            " 25000K .......... .......... .......... .......... .......... 43%  161M 0s\n",
            " 25050K .......... .......... .......... .......... .......... 43%  193M 0s\n",
            " 25100K .......... .......... .......... .......... .......... 44%  189M 0s\n",
            " 25150K .......... .......... .......... .......... .......... 44%  163M 0s\n",
            " 25200K .......... .......... .......... .......... .......... 44%  186M 0s\n",
            " 25250K .......... .......... .......... .......... .......... 44%  191M 0s\n",
            " 25300K .......... .......... .......... .......... .......... 44%  191M 0s\n",
            " 25350K .......... .......... .......... .......... .......... 44% 66.8M 0s\n",
            " 25400K .......... .......... .......... .......... .......... 44%  176M 0s\n",
            " 25450K .......... .......... .......... .......... .......... 44%  134M 0s\n",
            " 25500K .......... .......... .......... .......... .......... 44% 86.8M 0s\n",
            " 25550K .......... .......... .......... .......... .......... 44% 82.8M 0s\n",
            " 25600K .......... .......... .......... .......... .......... 44%  101M 0s\n",
            " 25650K .......... .......... .......... .......... .......... 45%  155M 0s\n",
            " 25700K .......... .......... .......... .......... .......... 45%  101M 0s\n",
            " 25750K .......... .......... .......... .......... .......... 45%  129M 0s\n",
            " 25800K .......... .......... .......... .......... .......... 45%  186M 0s\n",
            " 25850K .......... .......... .......... .......... .......... 45%  126M 0s\n",
            " 25900K .......... .......... .......... .......... .......... 45%  174M 0s\n",
            " 25950K .......... .......... .......... .......... .......... 45%  148M 0s\n",
            " 26000K .......... .......... .......... .......... .......... 45%  188M 0s\n",
            " 26050K .......... .......... .......... .......... .......... 45%  168M 0s\n",
            " 26100K .......... .......... .......... .......... .......... 45%  172M 0s\n",
            " 26150K .......... .......... .......... .......... .......... 45%  171M 0s\n",
            " 26200K .......... .......... .......... .......... .......... 45%  143M 0s\n",
            " 26250K .......... .......... .......... .......... .......... 46%  161M 0s\n",
            " 26300K .......... .......... .......... .......... .......... 46% 86.0M 0s\n",
            " 26350K .......... .......... .......... .......... .......... 46%  135M 0s\n",
            " 26400K .......... .......... .......... .......... .......... 46%  188M 0s\n",
            " 26450K .......... .......... .......... .......... .......... 46%  178M 0s\n",
            " 26500K .......... .......... .......... .......... .......... 46%  178M 0s\n",
            " 26550K .......... .......... .......... .......... .......... 46%  168M 0s\n",
            " 26600K .......... .......... .......... .......... .......... 46%  184M 0s\n",
            " 26650K .......... .......... .......... .......... .......... 46%  180M 0s\n",
            " 26700K .......... .......... .......... .......... .......... 46%  178M 0s\n",
            " 26750K .......... .......... .......... .......... .......... 46%  107M 0s\n",
            " 26800K .......... .......... .......... .......... .......... 47%  183M 0s\n",
            " 26850K .......... .......... .......... .......... .......... 47%  194M 0s\n",
            " 26900K .......... .......... .......... .......... .......... 47%  178M 0s\n",
            " 26950K .......... .......... .......... .......... .......... 47%  147M 0s\n",
            " 27000K .......... .......... .......... .......... .......... 47%  171M 0s\n",
            " 27050K .......... .......... .......... .......... .......... 47%  182M 0s\n",
            " 27100K .......... .......... .......... .......... .......... 47%  165M 0s\n",
            " 27150K .......... .......... .......... .......... .......... 47%  130M 0s\n",
            " 27200K .......... .......... .......... .......... .......... 47%  125M 0s\n",
            " 27250K .......... .......... .......... .......... .......... 47%  177M 0s\n",
            " 27300K .......... .......... .......... .......... .......... 47%  194M 0s\n",
            " 27350K .......... .......... .......... .......... .......... 47%  136M 0s\n",
            " 27400K .......... .......... .......... .......... .......... 48%  101M 0s\n",
            " 27450K .......... .......... .......... .......... .......... 48%  154M 0s\n",
            " 27500K .......... .......... .......... .......... .......... 48%  188M 0s\n",
            " 27550K .......... .......... .......... .......... .......... 48%  125M 0s\n",
            " 27600K .......... .......... .......... .......... .......... 48%  174M 0s\n",
            " 27650K .......... .......... .......... .......... .......... 48%  187M 0s\n",
            " 27700K .......... .......... .......... .......... .......... 48%  148M 0s\n",
            " 27750K .......... .......... .......... .......... .......... 48%  148M 0s\n",
            " 27800K .......... .......... .......... .......... .......... 48%  185M 0s\n",
            " 27850K .......... .......... .......... .......... .......... 48%  189M 0s\n",
            " 27900K .......... .......... .......... .......... .......... 48%  174M 0s\n",
            " 27950K .......... .......... .......... .......... .......... 49%  140M 0s\n",
            " 28000K .......... .......... .......... .......... .......... 49%  165M 0s\n",
            " 28050K .......... .......... .......... .......... .......... 49%  184M 0s\n",
            " 28100K .......... .......... .......... .......... .......... 49%  184M 0s\n",
            " 28150K .......... .......... .......... .......... .......... 49%  158M 0s\n",
            " 28200K .......... .......... .......... .......... .......... 49%  188M 0s\n",
            " 28250K .......... .......... .......... .......... .......... 49%  176M 0s\n",
            " 28300K .......... .......... .......... .......... .......... 49%  170M 0s\n",
            " 28350K .......... .......... .......... .......... .......... 49%  150M 0s\n",
            " 28400K .......... .......... .......... .......... .......... 49%  181M 0s\n",
            " 28450K .......... .......... .......... .......... .......... 49%  180M 0s\n",
            " 28500K .......... .......... .......... .......... .......... 50%  186M 0s\n",
            " 28550K .......... .......... .......... .......... .......... 50%  163M 0s\n",
            " 28600K .......... .......... .......... .......... .......... 50%  169M 0s\n",
            " 28650K .......... .......... .......... .......... .......... 50%  160M 0s\n",
            " 28700K .......... .......... .......... .......... .......... 50%  215M 0s\n",
            " 28750K .......... .......... .......... .......... .......... 50%  150M 0s\n",
            " 28800K .......... .......... .......... .......... .......... 50%  175M 0s\n",
            " 28850K .......... .......... .......... .......... .......... 50%  193M 0s\n",
            " 28900K .......... .......... .......... .......... .......... 50%  197M 0s\n",
            " 28950K .......... .......... .......... .......... .......... 50%  164M 0s\n",
            " 29000K .......... .......... .......... .......... .......... 50%  195M 0s\n",
            " 29050K .......... .......... .......... .......... .......... 50%  193M 0s\n",
            " 29100K .......... .......... .......... .......... .......... 51%  107M 0s\n",
            " 29150K .......... .......... .......... .......... .......... 51%  135M 0s\n",
            " 29200K .......... .......... .......... .......... .......... 51%  146M 0s\n",
            " 29250K .......... .......... .......... .......... .......... 51%  175M 0s\n",
            " 29300K .......... .......... .......... .......... .......... 51%  163M 0s\n",
            " 29350K .......... .......... .......... .......... .......... 51%  167M 0s\n",
            " 29400K .......... .......... .......... .......... .......... 51%  191M 0s\n",
            " 29450K .......... .......... .......... .......... .......... 51%  178M 0s\n",
            " 29500K .......... .......... .......... .......... .......... 51%  170M 0s\n",
            " 29550K .......... .......... .......... .......... .......... 51%  157M 0s\n",
            " 29600K .......... .......... .......... .......... .......... 51%  196M 0s\n",
            " 29650K .......... .......... .......... .......... .......... 52%  155M 0s\n",
            " 29700K .......... .......... .......... .......... .......... 52% 83.6M 0s\n",
            " 29750K .......... .......... .......... .......... .......... 52%  148M 0s\n",
            " 29800K .......... .......... .......... .......... .......... 52%  172M 0s\n",
            " 29850K .......... .......... .......... .......... .......... 52%  134M 0s\n",
            " 29900K .......... .......... .......... .......... .......... 52%  182M 0s\n",
            " 29950K .......... .......... .......... .......... .......... 52%  158M 0s\n",
            " 30000K .......... .......... .......... .......... .......... 52%  160M 0s\n",
            " 30050K .......... .......... .......... .......... .......... 52%  148M 0s\n",
            " 30100K .......... .......... .......... .......... .......... 52%  218M 0s\n",
            " 30150K .......... .......... .......... .......... .......... 52%  172M 0s\n",
            " 30200K .......... .......... .......... .......... .......... 52%  159M 0s\n",
            " 30250K .......... .......... .......... .......... .......... 53%  176M 0s\n",
            " 30300K .......... .......... .......... .......... .......... 53%  209M 0s\n",
            " 30350K .......... .......... .......... .......... .......... 53%  134M 0s\n",
            " 30400K .......... .......... .......... .......... .......... 53%  170M 0s\n",
            " 30450K .......... .......... .......... .......... .......... 53%  174M 0s\n",
            " 30500K .......... .......... .......... .......... .......... 53%  179M 0s\n",
            " 30550K .......... .......... .......... .......... .......... 53%  162M 0s\n",
            " 30600K .......... .......... .......... .......... .......... 53%  178M 0s\n",
            " 30650K .......... .......... .......... .......... .......... 53%  186M 0s\n",
            " 30700K .......... .......... .......... .......... .......... 53%  181M 0s\n",
            " 30750K .......... .......... .......... .......... .......... 53%  147M 0s\n",
            " 30800K .......... .......... .......... .......... .......... 54%  193M 0s\n",
            " 30850K .......... .......... .......... .......... .......... 54%  196M 0s\n",
            " 30900K .......... .......... .......... .......... .......... 54%  175M 0s\n",
            " 30950K .......... .......... .......... .......... .......... 54%  162M 0s\n",
            " 31000K .......... .......... .......... .......... .......... 54%  159M 0s\n",
            " 31050K .......... .......... .......... .......... .......... 54%  154M 0s\n",
            " 31100K .......... .......... .......... .......... .......... 54%  171M 0s\n",
            " 31150K .......... .......... .......... .......... .......... 54%  137M 0s\n",
            " 31200K .......... .......... .......... .......... .......... 54%  161M 0s\n",
            " 31250K .......... .......... .......... .......... .......... 54%  103M 0s\n",
            " 31300K .......... .......... .......... .......... .......... 54%  177M 0s\n",
            " 31350K .......... .......... .......... .......... .......... 54% 78.2M 0s\n",
            " 31400K .......... .......... .......... .......... .......... 55%  169M 0s\n",
            " 31450K .......... .......... .......... .......... .......... 55%  179M 0s\n",
            " 31500K .......... .......... .......... .......... .......... 55%  163M 0s\n",
            " 31550K .......... .......... .......... .......... .......... 55%  155M 0s\n",
            " 31600K .......... .......... .......... .......... .......... 55%  173M 0s\n",
            " 31650K .......... .......... .......... .......... .......... 55%  167M 0s\n",
            " 31700K .......... .......... .......... .......... .......... 55%  163M 0s\n",
            " 31750K .......... .......... .......... .......... .......... 55%  156M 0s\n",
            " 31800K .......... .......... .......... .......... .......... 55%  189M 0s\n",
            " 31850K .......... .......... .......... .......... .......... 55%  177M 0s\n",
            " 31900K .......... .......... .......... .......... .......... 55%  171M 0s\n",
            " 31950K .......... .......... .......... .......... .......... 56%  167M 0s\n",
            " 32000K .......... .......... .......... .......... .......... 56%  174M 0s\n",
            " 32050K .......... .......... .......... .......... .......... 56%  140M 0s\n",
            " 32100K .......... .......... .......... .......... .......... 56%  145M 0s\n",
            " 32150K .......... .......... .......... .......... .......... 56%  143M 0s\n",
            " 32200K .......... .......... .......... .......... .......... 56%  156M 0s\n",
            " 32250K .......... .......... .......... .......... .......... 56%  175M 0s\n",
            " 32300K .......... .......... .......... .......... .......... 56%  176M 0s\n",
            " 32350K .......... .......... .......... .......... .......... 56%  149M 0s\n",
            " 32400K .......... .......... .......... .......... .......... 56%  208M 0s\n",
            " 32450K .......... .......... .......... .......... .......... 56% 81.1M 0s\n",
            " 32500K .......... .......... .......... .......... .......... 57% 62.2M 0s\n",
            " 32550K .......... .......... .......... .......... .......... 57%  117M 0s\n",
            " 32600K .......... .......... .......... .......... .......... 57%  190M 0s\n",
            " 32650K .......... .......... .......... .......... .......... 57%  109M 0s\n",
            " 32700K .......... .......... .......... .......... .......... 57%  183M 0s\n",
            " 32750K .......... .......... .......... .......... .......... 57%  104M 0s\n",
            " 32800K .......... .......... .......... .......... .......... 57% 53.4M 0s\n",
            " 32850K .......... .......... .......... .......... .......... 57%  183M 0s\n",
            " 32900K .......... .......... .......... .......... .......... 57%  164M 0s\n",
            " 32950K .......... .......... .......... .......... .......... 57%  144M 0s\n",
            " 33000K .......... .......... .......... .......... .......... 57%  116M 0s\n",
            " 33050K .......... .......... .......... .......... .......... 57%  155M 0s\n",
            " 33100K .......... .......... .......... .......... .......... 58%  177M 0s\n",
            " 33150K .......... .......... .......... .......... .......... 58%  149M 0s\n",
            " 33200K .......... .......... .......... .......... .......... 58%  158M 0s\n",
            " 33250K .......... .......... .......... .......... .......... 58%  188M 0s\n",
            " 33300K .......... .......... .......... .......... .......... 58% 76.9M 0s\n",
            " 33350K .......... .......... .......... .......... .......... 58% 77.5M 0s\n",
            " 33400K .......... .......... .......... .......... .......... 58%  136M 0s\n",
            " 33450K .......... .......... .......... .......... .......... 58%  175M 0s\n",
            " 33500K .......... .......... .......... .......... .......... 58%  195M 0s\n",
            " 33550K .......... .......... .......... .......... .......... 58%  162M 0s\n",
            " 33600K .......... .......... .......... .......... .......... 58%  186M 0s\n",
            " 33650K .......... .......... .......... .......... .......... 59%  187M 0s\n",
            " 33700K .......... .......... .......... .......... .......... 59%  185M 0s\n",
            " 33750K .......... .......... .......... .......... .......... 59%  163M 0s\n",
            " 33800K .......... .......... .......... .......... .......... 59%  186M 0s\n",
            " 33850K .......... .......... .......... .......... .......... 59%  190M 0s\n",
            " 33900K .......... .......... .......... .......... .......... 59%  197M 0s\n",
            " 33950K .......... .......... .......... .......... .......... 59%  147M 0s\n",
            " 34000K .......... .......... .......... .......... .......... 59%  174M 0s\n",
            " 34050K .......... .......... .......... .......... .......... 59%  166M 0s\n",
            " 34100K .......... .......... .......... .......... .......... 59%  187M 0s\n",
            " 34150K .......... .......... .......... .......... .......... 59%  163M 0s\n",
            " 34200K .......... .......... .......... .......... .......... 59%  196M 0s\n",
            " 34250K .......... .......... .......... .......... .......... 60%  191M 0s\n",
            " 34300K .......... .......... .......... .......... .......... 60%  189M 0s\n",
            " 34350K .......... .......... .......... .......... .......... 60%  153M 0s\n",
            " 34400K .......... .......... .......... .......... .......... 60%  163M 0s\n",
            " 34450K .......... .......... .......... .......... .......... 60% 85.4M 0s\n",
            " 34500K .......... .......... .......... .......... .......... 60%  159M 0s\n",
            " 34550K .......... .......... .......... .......... .......... 60% 76.5M 0s\n",
            " 34600K .......... .......... .......... .......... .......... 60%  175M 0s\n",
            " 34650K .......... .......... .......... .......... .......... 60%  184M 0s\n",
            " 34700K .......... .......... .......... .......... .......... 60%  203M 0s\n",
            " 34750K .......... .......... .......... .......... .......... 60%  161M 0s\n",
            " 34800K .......... .......... .......... .......... .......... 61%  203M 0s\n",
            " 34850K .......... .......... .......... .......... .......... 61%  191M 0s\n",
            " 34900K .......... .......... .......... .......... .......... 61%  195M 0s\n",
            " 34950K .......... .......... .......... .......... .......... 61%  172M 0s\n",
            " 35000K .......... .......... .......... .......... .......... 61%  226M 0s\n",
            " 35050K .......... .......... .......... .......... .......... 61%  181M 0s\n",
            " 35100K .......... .......... .......... .......... .......... 61%  178M 0s\n",
            " 35150K .......... .......... .......... .......... .......... 61%  150M 0s\n",
            " 35200K .......... .......... .......... .......... .......... 61%  198M 0s\n",
            " 35250K .......... .......... .......... .......... .......... 61%  195M 0s\n",
            " 35300K .......... .......... .......... .......... .......... 61%  199M 0s\n",
            " 35350K .......... .......... .......... .......... .......... 61%  161M 0s\n",
            " 35400K .......... .......... .......... .......... .......... 62%  168M 0s\n",
            " 35450K .......... .......... .......... .......... .......... 62%  186M 0s\n",
            " 35500K .......... .......... .......... .......... .......... 62%  185M 0s\n",
            " 35550K .......... .......... .......... .......... .......... 62%  160M 0s\n",
            " 35600K .......... .......... .......... .......... .......... 62%  199M 0s\n",
            " 35650K .......... .......... .......... .......... .......... 62%  167M 0s\n",
            " 35700K .......... .......... .......... .......... .......... 62%  179M 0s\n",
            " 35750K .......... .......... .......... .......... .......... 62%  174M 0s\n",
            " 35800K .......... .......... .......... .......... .......... 62%  217M 0s\n",
            " 35850K .......... .......... .......... .......... .......... 62%  182M 0s\n",
            " 35900K .......... .......... .......... .......... .......... 62%  174M 0s\n",
            " 35950K .......... .......... .......... .......... .......... 63%  173M 0s\n",
            " 36000K .......... .......... .......... .......... .......... 63%  180M 0s\n",
            " 36050K .......... .......... .......... .......... .......... 63%  172M 0s\n",
            " 36100K .......... .......... .......... .......... .......... 63%  195M 0s\n",
            " 36150K .......... .......... .......... .......... .......... 63%  170M 0s\n",
            " 36200K .......... .......... .......... .......... .......... 63%  189M 0s\n",
            " 36250K .......... .......... .......... .......... .......... 63%  188M 0s\n",
            " 36300K .......... .......... .......... .......... .......... 63%  202M 0s\n",
            " 36350K .......... .......... .......... .......... .......... 63%  172M 0s\n",
            " 36400K .......... .......... .......... .......... .......... 63%  117M 0s\n",
            " 36450K .......... .......... .......... .......... .......... 63%  161M 0s\n",
            " 36500K .......... .......... .......... .......... .......... 64%  152M 0s\n",
            " 36550K .......... .......... .......... .......... .......... 64%  137M 0s\n",
            " 36600K .......... .......... .......... .......... .......... 64%  181M 0s\n",
            " 36650K .......... .......... .......... .......... .......... 64%  157M 0s\n",
            " 36700K .......... .......... .......... .......... .......... 64%  163M 0s\n",
            " 36750K .......... .......... .......... .......... .......... 64%  149M 0s\n",
            " 36800K .......... .......... .......... .......... .......... 64%  198M 0s\n",
            " 36850K .......... .......... .......... .......... .......... 64%  186M 0s\n",
            " 36900K .......... .......... .......... .......... .......... 64%  156M 0s\n",
            " 36950K .......... .......... .......... .......... .......... 64% 82.9M 0s\n",
            " 37000K .......... .......... .......... .......... .......... 64% 96.1M 0s\n",
            " 37050K .......... .......... .......... .......... .......... 64% 99.5M 0s\n",
            " 37100K .......... .......... .......... .......... .......... 65%  171M 0s\n",
            " 37150K .......... .......... .......... .......... .......... 65%  117M 0s\n",
            " 37200K .......... .......... .......... .......... .......... 65%  187M 0s\n",
            " 37250K .......... .......... .......... .......... .......... 65%  187M 0s\n",
            " 37300K .......... .......... .......... .......... .......... 65%  180M 0s\n",
            " 37350K .......... .......... .......... .......... .......... 65%  152M 0s\n",
            " 37400K .......... .......... .......... .......... .......... 65%  197M 0s\n",
            " 37450K .......... .......... .......... .......... .......... 65%  187M 0s\n",
            " 37500K .......... .......... .......... .......... .......... 65%  183M 0s\n",
            " 37550K .......... .......... .......... .......... .......... 65%  158M 0s\n",
            " 37600K .......... .......... .......... .......... .......... 65%  188M 0s\n",
            " 37650K .......... .......... .......... .......... .......... 66%  189M 0s\n",
            " 37700K .......... .......... .......... .......... .......... 66%  179M 0s\n",
            " 37750K .......... .......... .......... .......... .......... 66%  126M 0s\n",
            " 37800K .......... .......... .......... .......... .......... 66%  133M 0s\n",
            " 37850K .......... .......... .......... .......... .......... 66%  133M 0s\n",
            " 37900K .......... .......... .......... .......... .......... 66%  185M 0s\n",
            " 37950K .......... .......... .......... .......... .......... 66%  150M 0s\n",
            " 38000K .......... .......... .......... .......... .......... 66%  191M 0s\n",
            " 38050K .......... .......... .......... .......... .......... 66%  197M 0s\n",
            " 38100K .......... .......... .......... .......... .......... 66%  147M 0s\n",
            " 38150K .......... .......... .......... .......... .......... 66%  147M 0s\n",
            " 38200K .......... .......... .......... .......... .......... 66%  175M 0s\n",
            " 38250K .......... .......... .......... .......... .......... 67%  160M 0s\n",
            " 38300K .......... .......... .......... .......... .......... 67%  152M 0s\n",
            " 38350K .......... .......... .......... .......... .......... 67%  135M 0s\n",
            " 38400K .......... .......... .......... .......... .......... 67%  165M 0s\n",
            " 38450K .......... .......... .......... .......... .......... 67%  194M 0s\n",
            " 38500K .......... .......... .......... .......... .......... 67%  184M 0s\n",
            " 38550K .......... .......... .......... .......... .......... 67%  162M 0s\n",
            " 38600K .......... .......... .......... .......... .......... 67%  191M 0s\n",
            " 38650K .......... .......... .......... .......... .......... 67%  187M 0s\n",
            " 38700K .......... .......... .......... .......... .......... 67%  225M 0s\n",
            " 38750K .......... .......... .......... .......... .......... 67%  162M 0s\n",
            " 38800K .......... .......... .......... .......... .......... 68%  183M 0s\n",
            " 38850K .......... .......... .......... .......... .......... 68%  185M 0s\n",
            " 38900K .......... .......... .......... .......... .......... 68%  197M 0s\n",
            " 38950K .......... .......... .......... .......... .......... 68%  173M 0s\n",
            " 39000K .......... .......... .......... .......... .......... 68%  173M 0s\n",
            " 39050K .......... .......... .......... .......... .......... 68%  158M 0s\n",
            " 39100K .......... .......... .......... .......... .......... 68%  183M 0s\n",
            " 39150K .......... .......... .......... .......... .......... 68% 71.2M 0s\n",
            " 39200K .......... .......... .......... .......... .......... 68%  175M 0s\n",
            " 39250K .......... .......... .......... .......... .......... 68%  147M 0s\n",
            " 39300K .......... .......... .......... .......... .......... 68%  165M 0s\n",
            " 39350K .......... .......... .......... .......... .......... 69%  155M 0s\n",
            " 39400K .......... .......... .......... .......... .......... 69%  178M 0s\n",
            " 39450K .......... .......... .......... .......... .......... 69%  178M 0s\n",
            " 39500K .......... .......... .......... .......... .......... 69%  115M 0s\n",
            " 39550K .......... .......... .......... .......... .......... 69% 63.4M 0s\n",
            " 39600K .......... .......... .......... .......... .......... 69%  166M 0s\n",
            " 39650K .......... .......... .......... .......... .......... 69%  110M 0s\n",
            " 39700K .......... .......... .......... .......... .......... 69%  160M 0s\n",
            " 39750K .......... .......... .......... .......... .......... 69%  172M 0s\n",
            " 39800K .......... .......... .......... .......... .......... 69%  163M 0s\n",
            " 39850K .......... .......... .......... .......... .......... 69%  107M 0s\n",
            " 39900K .......... .......... .......... .......... .......... 69%  200M 0s\n",
            " 39950K .......... .......... .......... .......... .......... 70%  132M 0s\n",
            " 40000K .......... .......... .......... .......... .......... 70%  150M 0s\n",
            " 40050K .......... .......... .......... .......... .......... 70%  175M 0s\n",
            " 40100K .......... .......... .......... .......... .......... 70%  136M 0s\n",
            " 40150K .......... .......... .......... .......... .......... 70%  160M 0s\n",
            " 40200K .......... .......... .......... .......... .......... 70%  177M 0s\n",
            " 40250K .......... .......... .......... .......... .......... 70%  151M 0s\n",
            " 40300K .......... .......... .......... .......... .......... 70%  194M 0s\n",
            " 40350K .......... .......... .......... .......... .......... 70%  137M 0s\n",
            " 40400K .......... .......... .......... .......... .......... 70%  169M 0s\n",
            " 40450K .......... .......... .......... .......... .......... 70%  169M 0s\n",
            " 40500K .......... .......... .......... .......... .......... 71%  173M 0s\n",
            " 40550K .......... .......... .......... .......... .......... 71%  150M 0s\n",
            " 40600K .......... .......... .......... .......... .......... 71%  144M 0s\n",
            " 40650K .......... .......... .......... .......... .......... 71%  129M 0s\n",
            " 40700K .......... .......... .......... .......... .......... 71%  100M 0s\n",
            " 40750K .......... .......... .......... .......... .......... 71%  132M 0s\n",
            " 40800K .......... .......... .......... .......... .......... 71%  186M 0s\n",
            " 40850K .......... .......... .......... .......... .......... 71%  178M 0s\n",
            " 40900K .......... .......... .......... .......... .......... 71%  190M 0s\n",
            " 40950K .......... .......... .......... .......... .......... 71%  152M 0s\n",
            " 41000K .......... .......... .......... .......... .......... 71%  173M 0s\n",
            " 41050K .......... .......... .......... .......... .......... 71%  170M 0s\n",
            " 41100K .......... .......... .......... .......... .......... 72%  183M 0s\n",
            " 41150K .......... .......... .......... .......... .......... 72%  110M 0s\n",
            " 41200K .......... .......... .......... .......... .......... 72%  128M 0s\n",
            " 41250K .......... .......... .......... .......... .......... 72%  116M 0s\n",
            " 41300K .......... .......... .......... .......... .......... 72%  190M 0s\n",
            " 41350K .......... .......... .......... .......... .......... 72%  172M 0s\n",
            " 41400K .......... .......... .......... .......... .......... 72%  184M 0s\n",
            " 41450K .......... .......... .......... .......... .......... 72% 73.0M 0s\n",
            " 41500K .......... .......... .......... .......... .......... 72% 93.6M 0s\n",
            " 41550K .......... .......... .......... .......... .......... 72% 94.8M 0s\n",
            " 41600K .......... .......... .......... .......... .......... 72%  142M 0s\n",
            " 41650K .......... .......... .......... .......... .......... 73%  141M 0s\n",
            " 41700K .......... .......... .......... .......... .......... 73%  146M 0s\n",
            " 41750K .......... .......... .......... .......... .......... 73%  132M 0s\n",
            " 41800K .......... .......... .......... .......... .......... 73%  136M 0s\n",
            " 41850K .......... .......... .......... .......... .......... 73%  140M 0s\n",
            " 41900K .......... .......... .......... .......... .......... 73%  128M 0s\n",
            " 41950K .......... .......... .......... .......... .......... 73%  110M 0s\n",
            " 42000K .......... .......... .......... .......... .......... 73%  128M 0s\n",
            " 42050K .......... .......... .......... .......... .......... 73%  137M 0s\n",
            " 42100K .......... .......... .......... .......... .......... 73%  147M 0s\n",
            " 42150K .......... .......... .......... .......... .......... 73%  129M 0s\n",
            " 42200K .......... .......... .......... .......... .......... 73%  132M 0s\n",
            " 42250K .......... .......... .......... .......... .......... 74%  139M 0s\n",
            " 42300K .......... .......... .......... .......... .......... 74%  148M 0s\n",
            " 42350K .......... .......... .......... .......... .......... 74%  127M 0s\n",
            " 42400K .......... .......... .......... .......... .......... 74%  124M 0s\n",
            " 42450K .......... .......... .......... .......... .......... 74%  144M 0s\n",
            " 42500K .......... .......... .......... .......... .......... 74%  154M 0s\n",
            " 42550K .......... .......... .......... .......... .......... 74%  135M 0s\n",
            " 42600K .......... .......... .......... .......... .......... 74%  154M 0s\n",
            " 42650K .......... .......... .......... .......... .......... 74%  136M 0s\n",
            " 42700K .......... .......... .......... .......... .......... 74%  141M 0s\n",
            " 42750K .......... .......... .......... .......... .......... 74%  129M 0s\n",
            " 42800K .......... .......... .......... .......... .......... 75%  164M 0s\n",
            " 42850K .......... .......... .......... .......... .......... 75%  145M 0s\n",
            " 42900K .......... .......... .......... .......... .......... 75%  159M 0s\n",
            " 42950K .......... .......... .......... .......... .......... 75%  133M 0s\n",
            " 43000K .......... .......... .......... .......... .......... 75%  155M 0s\n",
            " 43050K .......... .......... .......... .......... .......... 75%  140M 0s\n",
            " 43100K .......... .......... .......... .......... .......... 75%  156M 0s\n",
            " 43150K .......... .......... .......... .......... .......... 75%  128M 0s\n",
            " 43200K .......... .......... .......... .......... .......... 75%  148M 0s\n",
            " 43250K .......... .......... .......... .......... .......... 75%  153M 0s\n",
            " 43300K .......... .......... .......... .......... .......... 75%  147M 0s\n",
            " 43350K .......... .......... .......... .......... .......... 76%  123M 0s\n",
            " 43400K .......... .......... .......... .......... .......... 76%  132M 0s\n",
            " 43450K .......... .......... .......... .......... .......... 76%  155M 0s\n",
            " 43500K .......... .......... .......... .......... .......... 76%  164M 0s\n",
            " 43550K .......... .......... .......... .......... .......... 76%  122M 0s\n",
            " 43600K .......... .......... .......... .......... .......... 76%  144M 0s\n",
            " 43650K .......... .......... .......... .......... .......... 76% 63.8M 0s\n",
            " 43700K .......... .......... .......... .......... .......... 76%  156M 0s\n",
            " 43750K .......... .......... .......... .......... .......... 76%  163M 0s\n",
            " 43800K .......... .......... .......... .......... .......... 76% 95.5M 0s\n",
            " 43850K .......... .......... .......... .......... .......... 76%  164M 0s\n",
            " 43900K .......... .......... .......... .......... .......... 76%  202M 0s\n",
            " 43950K .......... .......... .......... .......... .......... 77%  116M 0s\n",
            " 44000K .......... .......... .......... .......... .......... 77%  188M 0s\n",
            " 44050K .......... .......... .......... .......... .......... 77%  203M 0s\n",
            " 44100K .......... .......... .......... .......... .......... 77%  172M 0s\n",
            " 44150K .......... .......... .......... .......... .......... 77%  164M 0s\n",
            " 44200K .......... .......... .......... .......... .......... 77%  177M 0s\n",
            " 44250K .......... .......... .......... .......... .......... 77%  175M 0s\n",
            " 44300K .......... .......... .......... .......... .......... 77%  155M 0s\n",
            " 44350K .......... .......... .......... .......... .......... 77%  140M 0s\n",
            " 44400K .......... .......... .......... .......... .......... 77%  181M 0s\n",
            " 44450K .......... .......... .......... .......... .......... 77%  182M 0s\n",
            " 44500K .......... .......... .......... .......... .......... 78%  183M 0s\n",
            " 44550K .......... .......... .......... .......... .......... 78%  178M 0s\n",
            " 44600K .......... .......... .......... .......... .......... 78%  210M 0s\n",
            " 44650K .......... .......... .......... .......... .......... 78%  154M 0s\n",
            " 44700K .......... .......... .......... .......... .......... 78%  175M 0s\n",
            " 44750K .......... .......... .......... .......... .......... 78%  145M 0s\n",
            " 44800K .......... .......... .......... .......... .......... 78%  184M 0s\n",
            " 44850K .......... .......... .......... .......... .......... 78%  190M 0s\n",
            " 44900K .......... .......... .......... .......... .......... 78%  210M 0s\n",
            " 44950K .......... .......... .......... .......... .......... 78%  162M 0s\n",
            " 45000K .......... .......... .......... .......... .......... 78%  175M 0s\n",
            " 45050K .......... .......... .......... .......... .......... 78%  163M 0s\n",
            " 45100K .......... .......... .......... .......... .......... 79%  183M 0s\n",
            " 45150K .......... .......... .......... .......... .......... 79%  143M 0s\n",
            " 45200K .......... .......... .......... .......... .......... 79%  182M 0s\n",
            " 45250K .......... .......... .......... .......... .......... 79%  190M 0s\n",
            " 45300K .......... .......... .......... .......... .......... 79%  184M 0s\n",
            " 45350K .......... .......... .......... .......... .......... 79%  152M 0s\n",
            " 45400K .......... .......... .......... .......... .......... 79%  194M 0s\n",
            " 45450K .......... .......... .......... .......... .......... 79%  192M 0s\n",
            " 45500K .......... .......... .......... .......... .......... 79%  187M 0s\n",
            " 45550K .......... .......... .......... .......... .......... 79%  169M 0s\n",
            " 45600K .......... .......... .......... .......... .......... 79%  113M 0s\n",
            " 45650K .......... .......... .......... .......... .......... 80%  151M 0s\n",
            " 45700K .......... .......... .......... .......... .......... 80%  168M 0s\n",
            " 45750K .......... .......... .......... .......... .......... 80%  161M 0s\n",
            " 45800K .......... .......... .......... .......... .......... 80%  187M 0s\n",
            " 45850K .......... .......... .......... .......... .......... 80%  110M 0s\n",
            " 45900K .......... .......... .......... .......... .......... 80%  151M 0s\n",
            " 45950K .......... .......... .......... .......... .......... 80%  109M 0s\n",
            " 46000K .......... .......... .......... .......... .......... 80%  138M 0s\n",
            " 46050K .......... .......... .......... .......... .......... 80%  182M 0s\n",
            " 46100K .......... .......... .......... .......... .......... 80%  208M 0s\n",
            " 46150K .......... .......... .......... .......... .......... 80%  146M 0s\n",
            " 46200K .......... .......... .......... .......... .......... 81%  175M 0s\n",
            " 46250K .......... .......... .......... .......... .......... 81%  152M 0s\n",
            " 46300K .......... .......... .......... .......... .......... 81%  171M 0s\n",
            " 46350K .......... .......... .......... .......... .......... 81%  129M 0s\n",
            " 46400K .......... .......... .......... .......... .......... 81%  181M 0s\n",
            " 46450K .......... .......... .......... .......... .......... 81%  183M 0s\n",
            " 46500K .......... .......... .......... .......... .......... 81%  153M 0s\n",
            " 46550K .......... .......... .......... .......... .......... 81%  138M 0s\n",
            " 46600K .......... .......... .......... .......... .......... 81%  174M 0s\n",
            " 46650K .......... .......... .......... .......... .......... 81%  165M 0s\n",
            " 46700K .......... .......... .......... .......... .......... 81%  167M 0s\n",
            " 46750K .......... .......... .......... .......... .......... 81%  157M 0s\n",
            " 46800K .......... .......... .......... .......... .......... 82%  174M 0s\n",
            " 46850K .......... .......... .......... .......... .......... 82%  163M 0s\n",
            " 46900K .......... .......... .......... .......... .......... 82%  149M 0s\n",
            " 46950K .......... .......... .......... .......... .......... 82%  154M 0s\n",
            " 47000K .......... .......... .......... .......... .......... 82%  155M 0s\n",
            " 47050K .......... .......... .......... .......... .......... 82%  165M 0s\n",
            " 47100K .......... .......... .......... .......... .......... 82%  169M 0s\n",
            " 47150K .......... .......... .......... .......... .......... 82%  132M 0s\n",
            " 47200K .......... .......... .......... .......... .......... 82%  174M 0s\n",
            " 47250K .......... .......... .......... .......... .......... 82%  191M 0s\n",
            " 47300K .......... .......... .......... .......... .......... 82% 88.9M 0s\n",
            " 47350K .......... .......... .......... .......... .......... 83%  145M 0s\n",
            " 47400K .......... .......... .......... .......... .......... 83%  189M 0s\n",
            " 47450K .......... .......... .......... .......... .......... 83%  125M 0s\n",
            " 47500K .......... .......... .......... .......... .......... 83%  165M 0s\n",
            " 47550K .......... .......... .......... .......... .......... 83%  118M 0s\n",
            " 47600K .......... .......... .......... .......... .......... 83%  174M 0s\n",
            " 47650K .......... .......... .......... .......... .......... 83%  166M 0s\n",
            " 47700K .......... .......... .......... .......... .......... 83%  151M 0s\n",
            " 47750K .......... .......... .......... .......... .......... 83%  149M 0s\n",
            " 47800K .......... .......... .......... .......... .......... 83%  196M 0s\n",
            " 47850K .......... .......... .......... .......... .......... 83%  193M 0s\n",
            " 47900K .......... .......... .......... .......... .......... 83%  164M 0s\n",
            " 47950K .......... .......... .......... .......... .......... 84%  158M 0s\n",
            " 48000K .......... .......... .......... .......... .......... 84%  193M 0s\n",
            " 48050K .......... .......... .......... .......... .......... 84% 84.8M 0s\n",
            " 48100K .......... .......... .......... .......... .......... 84%  161M 0s\n",
            " 48150K .......... .......... .......... .......... .......... 84% 81.0M 0s\n",
            " 48200K .......... .......... .......... .......... .......... 84%  180M 0s\n",
            " 48250K .......... .......... .......... .......... .......... 84%  183M 0s\n",
            " 48300K .......... .......... .......... .......... .......... 84%  210M 0s\n",
            " 48350K .......... .......... .......... .......... .......... 84%  131M 0s\n",
            " 48400K .......... .......... .......... .......... .......... 84%  180M 0s\n",
            " 48450K .......... .......... .......... .......... .......... 84%  168M 0s\n",
            " 48500K .......... .......... .......... .......... .......... 85%  168M 0s\n",
            " 48550K .......... .......... .......... .......... .......... 85%  154M 0s\n",
            " 48600K .......... .......... .......... .......... .......... 85%  179M 0s\n",
            " 48650K .......... .......... .......... .......... .......... 85%  192M 0s\n",
            " 48700K .......... .......... .......... .......... .......... 85%  184M 0s\n",
            " 48750K .......... .......... .......... .......... .......... 85%  144M 0s\n",
            " 48800K .......... .......... .......... .......... .......... 85%  183M 0s\n",
            " 48850K .......... .......... .......... .......... .......... 85%  167M 0s\n",
            " 48900K .......... .......... .......... .......... .......... 85%  191M 0s\n",
            " 48950K .......... .......... .......... .......... .......... 85%  170M 0s\n",
            " 49000K .......... .......... .......... .......... .......... 85%  194M 0s\n",
            " 49050K .......... .......... .......... .......... .......... 85%  184M 0s\n",
            " 49100K .......... .......... .......... .......... .......... 86%  188M 0s\n",
            " 49150K .......... .......... .......... .......... .......... 86%  151M 0s\n",
            " 49200K .......... .......... .......... .......... .......... 86%  162M 0s\n",
            " 49250K .......... .......... .......... .......... .......... 86%  203M 0s\n",
            " 49300K .......... .......... .......... .......... .......... 86%  176M 0s\n",
            " 49350K .......... .......... .......... .......... .......... 86%  148M 0s\n",
            " 49400K .......... .......... .......... .......... .......... 86%  194M 0s\n",
            " 49450K .......... .......... .......... .......... .......... 86%  181M 0s\n",
            " 49500K .......... .......... .......... .......... .......... 86%  176M 0s\n",
            " 49550K .......... .......... .......... .......... .......... 86%  157M 0s\n",
            " 49600K .......... .......... .......... .......... .......... 86%  167M 0s\n",
            " 49650K .......... .......... .......... .......... .......... 87%  187M 0s\n",
            " 49700K .......... .......... .......... .......... .......... 87%  175M 0s\n",
            " 49750K .......... .......... .......... .......... .......... 87%  169M 0s\n",
            " 49800K .......... .......... .......... .......... .......... 87%  184M 0s\n",
            " 49850K .......... .......... .......... .......... .......... 87%  196M 0s\n",
            " 49900K .......... .......... .......... .......... .......... 87%  172M 0s\n",
            " 49950K .......... .......... .......... .......... .......... 87%  144M 0s\n",
            " 50000K .......... .......... .......... .......... .......... 87%  186M 0s\n",
            " 50050K .......... .......... .......... .......... .......... 87%  176M 0s\n",
            " 50100K .......... .......... .......... .......... .......... 87%  178M 0s\n",
            " 50150K .......... .......... .......... .......... .......... 87%  160M 0s\n",
            " 50200K .......... .......... .......... .......... .......... 88%  212M 0s\n",
            " 50250K .......... .......... .......... .......... .......... 88%  180M 0s\n",
            " 50300K .......... .......... .......... .......... .......... 88%  188M 0s\n",
            " 50350K .......... .......... .......... .......... .......... 88%  158M 0s\n",
            " 50400K .......... .......... .......... .......... .......... 88%  165M 0s\n",
            " 50450K .......... .......... .......... .......... .......... 88%  197M 0s\n",
            " 50500K .......... .......... .......... .......... .......... 88%  208M 0s\n",
            " 50550K .......... .......... .......... .......... .......... 88%  180M 0s\n",
            " 50600K .......... .......... .......... .......... .......... 88%  184M 0s\n",
            " 50650K .......... .......... .......... .......... .......... 88%  168M 0s\n",
            " 50700K .......... .......... .......... .......... .......... 88%  192M 0s\n",
            " 50750K .......... .......... .......... .......... .......... 88%  155M 0s\n",
            " 50800K .......... .......... .......... .......... .......... 89%  183M 0s\n",
            " 50850K .......... .......... .......... .......... .......... 89%  185M 0s\n",
            " 50900K .......... .......... .......... .......... .......... 89%  177M 0s\n",
            " 50950K .......... .......... .......... .......... .......... 89%  162M 0s\n",
            " 51000K .......... .......... .......... .......... .......... 89%  199M 0s\n",
            " 51050K .......... .......... .......... .......... .......... 89%  197M 0s\n",
            " 51100K .......... .......... .......... .......... .......... 89%  176M 0s\n",
            " 51150K .......... .......... .......... .......... .......... 89%  114M 0s\n",
            " 51200K .......... .......... .......... .......... .......... 89%  135M 0s\n",
            " 51250K .......... .......... .......... .......... .......... 89%  185M 0s\n",
            " 51300K .......... .......... .......... .......... .......... 89%  183M 0s\n",
            " 51350K .......... .......... .......... .......... .......... 90%  155M 0s\n",
            " 51400K .......... .......... .......... .......... .......... 90%  204M 0s\n",
            " 51450K .......... .......... .......... .......... .......... 90%  126M 0s\n",
            " 51500K .......... .......... .......... .......... .......... 90%  151M 0s\n",
            " 51550K .......... .......... .......... .......... .......... 90%  124M 0s\n",
            " 51600K .......... .......... .......... .......... .......... 90%  194M 0s\n",
            " 51650K .......... .......... .......... .......... .......... 90%  181M 0s\n",
            " 51700K .......... .......... .......... .......... .......... 90%  103M 0s\n",
            " 51750K .......... .......... .......... .......... .......... 90% 87.0M 0s\n",
            " 51800K .......... .......... .......... .......... .......... 90%  183M 0s\n",
            " 51850K .......... .......... .......... .......... .......... 90%  190M 0s\n",
            " 51900K .......... .......... .......... .......... .......... 90%  188M 0s\n",
            " 51950K .......... .......... .......... .......... .......... 91%  159M 0s\n",
            " 52000K .......... .......... .......... .......... .......... 91%  196M 0s\n",
            " 52050K .......... .......... .......... .......... .......... 91%  205M 0s\n",
            " 52100K .......... .......... .......... .......... .......... 91%  161M 0s\n",
            " 52150K .......... .......... .......... .......... .......... 91%  168M 0s\n",
            " 52200K .......... .......... .......... .......... .......... 91%  196M 0s\n",
            " 52250K .......... .......... .......... .......... .......... 91%  183M 0s\n",
            " 52300K .......... .......... .......... .......... .......... 91%  182M 0s\n",
            " 52350K .......... .......... .......... .......... .......... 91%  142M 0s\n",
            " 52400K .......... .......... .......... .......... .......... 91%  178M 0s\n",
            " 52450K .......... .......... .......... .......... .......... 91%  170M 0s\n",
            " 52500K .......... .......... .......... .......... .......... 92%  179M 0s\n",
            " 52550K .......... .......... .......... .......... .......... 92%  169M 0s\n",
            " 52600K .......... .......... .......... .......... .......... 92%  185M 0s\n",
            " 52650K .......... .......... .......... .......... .......... 92%  178M 0s\n",
            " 52700K .......... .......... .......... .......... .......... 92%  173M 0s\n",
            " 52750K .......... .......... .......... .......... .......... 92%  150M 0s\n",
            " 52800K .......... .......... .......... .......... .......... 92%  196M 0s\n",
            " 52850K .......... .......... .......... .......... .......... 92%  176M 0s\n",
            " 52900K .......... .......... .......... .......... .......... 92%  174M 0s\n",
            " 52950K .......... .......... .......... .......... .......... 92%  172M 0s\n",
            " 53000K .......... .......... .......... .......... .......... 92%  165M 0s\n",
            " 53050K .......... .......... .......... .......... .......... 92%  182M 0s\n",
            " 53100K .......... .......... .......... .......... .......... 93%  186M 0s\n",
            " 53150K .......... .......... .......... .......... .......... 93%  156M 0s\n",
            " 53200K .......... .......... .......... .......... .......... 93%  173M 0s\n",
            " 53250K .......... .......... .......... .......... .......... 93%  193M 0s\n",
            " 53300K .......... .......... .......... .......... .......... 93%  196M 0s\n",
            " 53350K .......... .......... .......... .......... .......... 93%  169M 0s\n",
            " 53400K .......... .......... .......... .......... .......... 93%  171M 0s\n",
            " 53450K .......... .......... .......... .......... .......... 93%  213M 0s\n",
            " 53500K .......... .......... .......... .......... .......... 93%  192M 0s\n",
            " 53550K .......... .......... .......... .......... .......... 93%  144M 0s\n",
            " 53600K .......... .......... .......... .......... .......... 93%  193M 0s\n",
            " 53650K .......... .......... .......... .......... .......... 94%  113M 0s\n",
            " 53700K .......... .......... .......... .......... .......... 94%  176M 0s\n",
            " 53750K .......... .......... .......... .......... .......... 94%  104M 0s\n",
            " 53800K .......... .......... .......... .......... .......... 94%  116M 0s\n",
            " 53850K .......... .......... .......... .......... .......... 94%  160M 0s\n",
            " 53900K .......... .......... .......... .......... .......... 94%  220M 0s\n",
            " 53950K .......... .......... .......... .......... .......... 94%  117M 0s\n",
            " 54000K .......... .......... .......... .......... .......... 94%  174M 0s\n",
            " 54050K .......... .......... .......... .......... .......... 94%  176M 0s\n",
            " 54100K .......... .......... .......... .......... .......... 94%  185M 0s\n",
            " 54150K .......... .......... .......... .......... .......... 94%  174M 0s\n",
            " 54200K .......... .......... .......... .......... .......... 95%  188M 0s\n",
            " 54250K .......... .......... .......... .......... .......... 95%  186M 0s\n",
            " 54300K .......... .......... .......... .......... .......... 95%  117M 0s\n",
            " 54350K .......... .......... .......... .......... .......... 95%  143M 0s\n",
            " 54400K .......... .......... .......... .......... .......... 95%  197M 0s\n",
            " 54450K .......... .......... .......... .......... .......... 95%  186M 0s\n",
            " 54500K .......... .......... .......... .......... .......... 95%  199M 0s\n",
            " 54550K .......... .......... .......... .......... .......... 95%  169M 0s\n",
            " 54600K .......... .......... .......... .......... .......... 95%  192M 0s\n",
            " 54650K .......... .......... .......... .......... .......... 95%  113M 0s\n",
            " 54700K .......... .......... .......... .......... .......... 95%  166M 0s\n",
            " 54750K .......... .......... .......... .......... .......... 95%  152M 0s\n",
            " 54800K .......... .......... .......... .......... .......... 96%  149M 0s\n",
            " 54850K .......... .......... .......... .......... .......... 96%  172M 0s\n",
            " 54900K .......... .......... .......... .......... .......... 96%  176M 0s\n",
            " 54950K .......... .......... .......... .......... .......... 96%  119M 0s\n",
            " 55000K .......... .......... .......... .......... .......... 96%  154M 0s\n",
            " 55050K .......... .......... .......... .......... .......... 96%  176M 0s\n",
            " 55100K .......... .......... .......... .......... .......... 96%  148M 0s\n",
            " 55150K .......... .......... .......... .......... .......... 96%  150M 0s\n",
            " 55200K .......... .......... .......... .......... .......... 96%  175M 0s\n",
            " 55250K .......... .......... .......... .......... .......... 96%  188M 0s\n",
            " 55300K .......... .......... .......... .......... .......... 96%  191M 0s\n",
            " 55350K .......... .......... .......... .......... .......... 97%  157M 0s\n",
            " 55400K .......... .......... .......... .......... .......... 97%  192M 0s\n",
            " 55450K .......... .......... .......... .......... .......... 97%  190M 0s\n",
            " 55500K .......... .......... .......... .......... .......... 97%  187M 0s\n",
            " 55550K .......... .......... .......... .......... .......... 97%  151M 0s\n",
            " 55600K .......... .......... .......... .......... .......... 97%  192M 0s\n",
            " 55650K .......... .......... .......... .......... .......... 97%  188M 0s\n",
            " 55700K .......... .......... .......... .......... .......... 97%  186M 0s\n",
            " 55750K .......... .......... .......... .......... .......... 97%  176M 0s\n",
            " 55800K .......... .......... .......... .......... .......... 97%  193M 0s\n",
            " 55850K .......... .......... .......... .......... .......... 97%  194M 0s\n",
            " 55900K .......... .......... .......... .......... .......... 97%  188M 0s\n",
            " 55950K .......... .......... .......... .......... .......... 98%  163M 0s\n",
            " 56000K .......... .......... .......... .......... .......... 98%  178M 0s\n",
            " 56050K .......... .......... .......... .......... .......... 98%  203M 0s\n",
            " 56100K .......... .......... .......... .......... .......... 98%  189M 0s\n",
            " 56150K .......... .......... .......... .......... .......... 98%  171M 0s\n",
            " 56200K .......... .......... .......... .......... .......... 98% 54.2M 0s\n",
            " 56250K .......... .......... .......... .......... .......... 98% 94.7M 0s\n",
            " 56300K .......... .......... .......... .......... .......... 98%  178M 0s\n",
            " 56350K .......... .......... .......... .......... .......... 98%  128M 0s\n",
            " 56400K .......... .......... .......... .......... .......... 98%  169M 0s\n",
            " 56450K .......... .......... .......... .......... .......... 98% 41.1M 0s\n",
            " 56500K .......... .......... .......... .......... .......... 99%  108M 0s\n",
            " 56550K .......... .......... .......... .......... .......... 99%  147M 0s\n",
            " 56600K .......... .......... .......... .......... .......... 99%  182M 0s\n",
            " 56650K .......... .......... .......... .......... .......... 99%  186M 0s\n",
            " 56700K .......... .......... .......... .......... .......... 99%  130M 0s\n",
            " 56750K .......... .......... .......... .......... .......... 99%  145M 0s\n",
            " 56800K .......... .......... .......... .......... .......... 99%  166M 0s\n",
            " 56850K .......... .......... .......... .......... .......... 99% 73.7M 0s\n",
            " 56900K .......... .......... .......... .......... .......... 99%  111M 0s\n",
            " 56950K .......... .......... .......... .......... .......... 99%  116M 0s\n",
            " 57000K .......... .......... .......... .......... .......... 99%  135M 0s\n",
            " 57050K .......... .......... .......... .......... ........  100% 86.5M=0.4s\n",
            "\n",
            "2021-11-25 07:25:35 (136 MB/s) - ‘Miniconda3-4.5.4-Linux-x86_64.sh.2’ saved [58468498/58468498]\n",
            "\n",
            "Python 3.6.5 :: Anaconda, Inc.\n",
            "\n",
            "\n",
            "==> WARNING: A newer version of conda exists. <==\n",
            "  current version: 4.5.4\n",
            "  latest version: 4.10.3\n",
            "\n",
            "Please update conda by running\n",
            "\n",
            "    $ conda update -n base conda\n",
            "\n",
            "\n"
          ]
        }
      ]
    },
    {
      "cell_type": "code",
      "metadata": {
        "id": "bag1OO-X33iY"
      },
      "source": [
        "import sys\n",
        "sys.path\n",
        " \n",
        " \n",
        "import sys\n",
        "_ = (sys.path\n",
        " .append(\"/usr/local/lib/python3.7/site-packages\"))\n"
      ],
      "execution_count": 29,
      "outputs": []
    },
    {
      "cell_type": "markdown",
      "metadata": {
        "id": "jcGt0oyXzq5t"
      },
      "source": [
        "### Start by connecting to ArcGIS Online"
      ]
    },
    {
      "cell_type": "code",
      "metadata": {
        "id": "O_pjf5kh1WyW"
      },
      "source": [
        "import arcgis\n",
        "\n",
        "from arcgis.gis import GIS\n",
        "\n",
        "gis = GIS()"
      ],
      "execution_count": 30,
      "outputs": []
    },
    {
      "cell_type": "markdown",
      "metadata": {
        "id": "hdPR9_3kzq5u"
      },
      "source": [
        "## Aggregating Traffic Collisions by Block Group\n",
        "\n",
        "We will use the [traffic collisions](https://learngis.maps.arcgis.com/home/item.html?id=79d3e458dcaf486f81c5591a67538179) from Pasadena, CA and [block groups](https://learngis.maps.arcgis.com/home/item.html?id=af363700f8f84c11a02f084e78a296aa). Let's start by grabbing the layer collection from ArcGIS Online."
      ]
    },
    {
      "cell_type": "code",
      "metadata": {
        "trusted": true,
        "colab": {
          "base_uri": "https://localhost:8080/",
          "height": 176
        },
        "id": "OJjjVxS5zq5u",
        "outputId": "67241f57-a79b-4aef-8881-170e2e5f65a1"
      },
      "source": [
        "# Item Added From Toolbar\n",
        "# Title: Traffic Collisions | Type: Feature Service | Owner: Learn_ArcGIS\n",
        "traffic = gis.content.get(\"79d3e458dcaf486f81c5591a67538179\")\n",
        "traffic"
      ],
      "execution_count": 31,
      "outputs": [
        {
          "output_type": "execute_result",
          "data": {
            "text/html": [
              "<div class=\"item_container\" style=\"height: auto; overflow: hidden; border: 1px solid #cfcfcf; border-radius: 2px; background: #f6fafa; line-height: 1.21429em; padding: 10px;\">\n",
              "                    <div class=\"item_left\" style=\"width: 210px; float: left;\">\n",
              "                       <a href='https://www.arcgis.com/home/item.html?id=79d3e458dcaf486f81c5591a67538179' target='_blank'>\n",
              "                        <img src='https://www.arcgis.com/sharing/rest//content/items/79d3e458dcaf486f81c5591a67538179/info/thumbnail/ago_downloaded.png' class=\"itemThumbnail\">\n",
              "                       </a>\n",
              "                    </div>\n",
              "\n",
              "                    <div class=\"item_right\"     style=\"float: none; width: auto; overflow: hidden;\">\n",
              "                        <a href='https://www.arcgis.com/home/item.html?id=79d3e458dcaf486f81c5591a67538179' target='_blank'><b>Traffic Collisions</b>\n",
              "                        </a>\n",
              "                        <br/>Traffic collisions in Pasadena, California, since 2008.<img src='https://www.arcgis.com/home/js/jsapi/esri/css/images/item_type_icons/featureshosted16.png' style=\"vertical-align:middle;\">Feature Layer Collection by Learn_ArcGIS\n",
              "                        <br/>Last Modified: July 08, 2020\n",
              "                        <br/>0 comments, 0 views\n",
              "                    </div>\n",
              "                </div>\n",
              "                "
            ],
            "text/plain": [
              "<Item title:\"Traffic Collisions\" type:Feature Layer Collection owner:Learn_ArcGIS>"
            ]
          },
          "metadata": {},
          "execution_count": 31
        }
      ]
    },
    {
      "cell_type": "code",
      "metadata": {
        "trusted": true,
        "colab": {
          "base_uri": "https://localhost:8080/",
          "height": 176
        },
        "id": "S0LIm28lzq5v",
        "outputId": "8f53740e-34cf-4787-c01c-7eb6b3b837c0"
      },
      "source": [
        "# Item Added From Toolbar\n",
        "# Title: USA Block Groups | Type: Feature Service | Owner: esri_dm\n",
        "block_groups = gis.content.get(\"af363700f8f84c11a02f084e78a296aa\")\n",
        "block_groups"
      ],
      "execution_count": 32,
      "outputs": [
        {
          "output_type": "execute_result",
          "data": {
            "text/html": [
              "<div class=\"item_container\" style=\"height: auto; overflow: hidden; border: 1px solid #cfcfcf; border-radius: 2px; background: #f6fafa; line-height: 1.21429em; padding: 10px;\">\n",
              "                    <div class=\"item_left\" style=\"width: 210px; float: left;\">\n",
              "                       <a href='https://www.arcgis.com/home/item.html?id=af363700f8f84c11a02f084e78a296aa' target='_blank'>\n",
              "                        <img src='https://www.arcgis.com/sharing/rest//content/items/af363700f8f84c11a02f084e78a296aa/info/thumbnail/thumbnail.png' class=\"itemThumbnail\">\n",
              "                       </a>\n",
              "                    </div>\n",
              "\n",
              "                    <div class=\"item_right\"     style=\"float: none; width: auto; overflow: hidden;\">\n",
              "                        <a href='https://www.arcgis.com/home/item.html?id=af363700f8f84c11a02f084e78a296aa' target='_blank'><b>Pasadena Block Groups</b>\n",
              "                        </a>\n",
              "                        <br/>Block groups for Pasadena, CA created from the USA Block Group layers in the Living Atlas.<img src='https://www.arcgis.com/home/js/jsapi/esri/css/images/item_type_icons/featureshosted16.png' style=\"vertical-align:middle;\">Feature Layer Collection by Learn_ArcGIS\n",
              "                        <br/>Last Modified: July 08, 2020\n",
              "                        <br/>0 comments, 753 views\n",
              "                    </div>\n",
              "                </div>\n",
              "                "
            ],
            "text/plain": [
              "<Item title:\"Pasadena Block Groups\" type:Feature Layer Collection owner:Learn_ArcGIS>"
            ]
          },
          "metadata": {},
          "execution_count": 32
        }
      ]
    },
    {
      "cell_type": "markdown",
      "metadata": {
        "id": "REIv93KZzq5v"
      },
      "source": [
        "### Visualize Layers on Map"
      ]
    },
    {
      "cell_type": "code",
      "metadata": {
        "trusted": true,
        "colab": {
          "base_uri": "https://localhost:8080/",
          "height": 34,
          "referenced_widgets": [
            "a4b35419bc1743838f5eadf09672086a"
          ]
        },
        "id": "M5okYh4Lzq5v",
        "outputId": "7c7d1951-e322-4d6b-8390-9601b505bb41"
      },
      "source": [
        "traffic_map = gis.map('Pasadena, CA')\n",
        "traffic_map"
      ],
      "execution_count": 33,
      "outputs": [
        {
          "output_type": "display_data",
          "data": {
            "application/vnd.jupyter.widget-view+json": {
              "model_id": "a4b35419bc1743838f5eadf09672086a",
              "version_minor": 0,
              "version_major": 2
            },
            "text/plain": [
              "MapView(layout=Layout(height='400px', width='100%'))"
            ]
          },
          "metadata": {
            "application/vnd.jupyter.widget-view+json": {
              "colab": {
                "custom_widget_manager": {
                  "url": "https://ssl.gstatic.com/colaboratory-static/widgets/colab-cdn-widget-manager/a8874ba6619b6106/manager.min.js"
                }
              }
            }
          }
        },
        {
          "output_type": "display_data",
          "data": {
            "text/html": [
              "<div class=\"map-static-img-preview-b6d8a1d1-00a8-4511-aa4d-49070949fa27\"><img src=\"\"></img></div>"
            ],
            "text/plain": [
              "<IPython.core.display.HTML object>"
            ]
          },
          "metadata": {}
        },
        {
          "output_type": "display_data",
          "data": {
            "text/html": [
              "<div class=\"map-html-embed-preview-b6d8a1d1-00a8-4511-aa4d-49070949fa27\"></div>"
            ],
            "text/plain": [
              "<IPython.core.display.HTML object>"
            ]
          },
          "metadata": {}
        }
      ]
    },
    {
      "cell_type": "code",
      "metadata": {
        "id": "kpkDOEdK1gmd"
      },
      "source": [
        "from google.colab import output\n",
        "output.enable_custom_widget_manager()"
      ],
      "execution_count": 34,
      "outputs": []
    },
    {
      "cell_type": "code",
      "metadata": {
        "trusted": true,
        "id": "1lPigr35zq5w"
      },
      "source": [
        "traffic_map.add_layer(block_groups)"
      ],
      "execution_count": 35,
      "outputs": []
    },
    {
      "cell_type": "code",
      "metadata": {
        "trusted": true,
        "id": "48LMpknRzq5w"
      },
      "source": [
        "traffic_map.add_layer(traffic)"
      ],
      "execution_count": 36,
      "outputs": []
    },
    {
      "cell_type": "code",
      "metadata": {
        "colab": {
          "base_uri": "https://localhost:8080/",
          "height": 34,
          "referenced_widgets": [
            "a4b35419bc1743838f5eadf09672086a"
          ]
        },
        "id": "SeRnLa4vBW12",
        "outputId": "09773720-6ca4-44b6-fe7b-78e49262ba93"
      },
      "source": [
        "traffic_map"
      ],
      "execution_count": 37,
      "outputs": [
        {
          "output_type": "display_data",
          "data": {
            "application/vnd.jupyter.widget-view+json": {
              "model_id": "a4b35419bc1743838f5eadf09672086a",
              "version_minor": 0,
              "version_major": 2
            },
            "text/plain": [
              "MapView(layout=Layout(height='400px', width='100%'))"
            ]
          },
          "metadata": {
            "application/vnd.jupyter.widget-view+json": {
              "colab": {
                "custom_widget_manager": {
                  "url": "https://ssl.gstatic.com/colaboratory-static/widgets/colab-cdn-widget-manager/a8874ba6619b6106/manager.min.js"
                }
              }
            }
          }
        },
        {
          "output_type": "display_data",
          "data": {
            "text/html": [
              "<div class=\"map-static-img-preview-b6d8a1d1-00a8-4511-aa4d-49070949fa27\"><img src=\"\"></img></div>"
            ],
            "text/plain": [
              "<IPython.core.display.HTML object>"
            ]
          },
          "metadata": {}
        },
        {
          "output_type": "display_data",
          "data": {
            "text/html": [
              "<div class=\"map-html-embed-preview-b6d8a1d1-00a8-4511-aa4d-49070949fa27\"></div>"
            ],
            "text/plain": [
              "<IPython.core.display.HTML object>"
            ]
          },
          "metadata": {}
        }
      ]
    },
    {
      "cell_type": "markdown",
      "metadata": {
        "id": "lTuTUJCrzq5x"
      },
      "source": [
        "### Aggregate by Block Group\n",
        "\n",
        "We will use the [```aggregate_points```](https://developers.arcgis.com/python/api-reference/arcgis.features.analysis.html?highlight=aggregate#arcgis.features.analysis.aggregate_points) analysis service to aggregate featues by block group."
      ]
    },
    {
      "cell_type": "code",
      "metadata": {
        "trusted": true,
        "colab": {
          "base_uri": "https://localhost:8080/",
          "height": 351
        },
        "id": "d3im0neFzq5x",
        "outputId": "cdb50b55-6b36-42db-f16f-283ffbb7b19d"
      },
      "source": [
        "from arcgis import features\n",
        "accidents_by_block_group = features.summarize_data.aggregate_points(\n",
        "                        point_layer = traffic, \n",
        "                        output_name=\"accidents_by_block_group\",\n",
        "                        polygon_layer = block_groups,\n",
        "                        keep_boundaries_with_no_points=False)"
      ],
      "execution_count": 38,
      "outputs": [
        {
          "output_type": "stream",
          "name": "stdout",
          "text": [
            "You need to be signed in to use spatial analysis.\n"
          ]
        },
        {
          "output_type": "error",
          "ename": "AttributeError",
          "evalue": "ignored",
          "traceback": [
            "\u001b[0;31m---------------------------------------------------------------------------\u001b[0m",
            "\u001b[0;31mAttributeError\u001b[0m                            Traceback (most recent call last)",
            "\u001b[0;32m<ipython-input-38-42e0d1a83441>\u001b[0m in \u001b[0;36m<module>\u001b[0;34m()\u001b[0m\n\u001b[1;32m      4\u001b[0m                         \u001b[0moutput_name\u001b[0m\u001b[0;34m=\u001b[0m\u001b[0;34m\"accidents_by_block_group\"\u001b[0m\u001b[0;34m,\u001b[0m\u001b[0;34m\u001b[0m\u001b[0;34m\u001b[0m\u001b[0m\n\u001b[1;32m      5\u001b[0m                         \u001b[0mpolygon_layer\u001b[0m \u001b[0;34m=\u001b[0m \u001b[0mblock_groups\u001b[0m\u001b[0;34m,\u001b[0m\u001b[0;34m\u001b[0m\u001b[0;34m\u001b[0m\u001b[0m\n\u001b[0;32m----> 6\u001b[0;31m                         keep_boundaries_with_no_points=False)\n\u001b[0m",
            "\u001b[0;32m/usr/local/lib/python3.7/dist-packages/arcgis/features/summarize_data.py\u001b[0m in \u001b[0;36maggregate_points\u001b[0;34m(point_layer, polygon_layer, keep_boundaries_with_no_points, summary_fields, group_by_field, minority_majority, percent_points, output_name, context, gis, estimate, future, bin_type, bin_size, bin_size_unit)\u001b[0m\n\u001b[1;32m    177\u001b[0m     }\n\u001b[1;32m    178\u001b[0m     params = inspect_function_inputs(\n\u001b[0;32m--> 179\u001b[0;31m         \u001b[0mfn\u001b[0m\u001b[0;34m=\u001b[0m\u001b[0mgis\u001b[0m\u001b[0;34m.\u001b[0m\u001b[0m_tools\u001b[0m\u001b[0;34m.\u001b[0m\u001b[0mfeatureanalysis\u001b[0m\u001b[0;34m.\u001b[0m\u001b[0m_tbx\u001b[0m\u001b[0;34m.\u001b[0m\u001b[0maggregate_points\u001b[0m\u001b[0;34m,\u001b[0m \u001b[0;34m**\u001b[0m\u001b[0mkwargs\u001b[0m\u001b[0;34m\u001b[0m\u001b[0;34m\u001b[0m\u001b[0m\n\u001b[0m\u001b[1;32m    180\u001b[0m     )\n\u001b[1;32m    181\u001b[0m     \u001b[0;32mreturn\u001b[0m \u001b[0mgis\u001b[0m\u001b[0;34m.\u001b[0m\u001b[0m_tools\u001b[0m\u001b[0;34m.\u001b[0m\u001b[0mfeatureanalysis\u001b[0m\u001b[0;34m.\u001b[0m\u001b[0maggregate_points\u001b[0m\u001b[0;34m(\u001b[0m\u001b[0;34m**\u001b[0m\u001b[0mparams\u001b[0m\u001b[0;34m)\u001b[0m\u001b[0;34m\u001b[0m\u001b[0;34m\u001b[0m\u001b[0m\n",
            "\u001b[0;31mAttributeError\u001b[0m: 'NoneType' object has no attribute '_tbx'"
          ]
        }
      ]
    },
    {
      "cell_type": "code",
      "metadata": {
        "trusted": true,
        "colab": {
          "base_uri": "https://localhost:8080/",
          "height": 164
        },
        "id": "-muWeM6Ozq5x",
        "outputId": "2d060141-0753-4d31-bff9-bdfe3da7acc7"
      },
      "source": [
        "accidents_by_block_group"
      ],
      "execution_count": 13,
      "outputs": [
        {
          "output_type": "error",
          "ename": "NameError",
          "evalue": "ignored",
          "traceback": [
            "\u001b[0;31m---------------------------------------------------------------------------\u001b[0m",
            "\u001b[0;31mNameError\u001b[0m                                 Traceback (most recent call last)",
            "\u001b[0;32m<ipython-input-13-96a21b626ac2>\u001b[0m in \u001b[0;36m<module>\u001b[0;34m()\u001b[0m\n\u001b[0;32m----> 1\u001b[0;31m \u001b[0maccidents_by_block_group\u001b[0m\u001b[0;34m\u001b[0m\u001b[0;34m\u001b[0m\u001b[0m\n\u001b[0m",
            "\u001b[0;31mNameError\u001b[0m: name 'accidents_by_block_group' is not defined"
          ]
        }
      ]
    },
    {
      "cell_type": "markdown",
      "metadata": {
        "id": "SX6OBmYbzq5x"
      },
      "source": [
        "### Add Features to a Map\n",
        "\n",
        "Once the process is complete, we can add the data to a map as follows."
      ]
    },
    {
      "cell_type": "code",
      "metadata": {
        "trusted": true,
        "colab": {
          "referenced_widgets": [
            "c19c0f961079490f9526222d52a957b4"
          ]
        },
        "id": "Cbs86k-Qzq5x",
        "outputId": "8058408a-51b1-46ee-990a-9da25961b361"
      },
      "source": [
        "traffic_analysis_map_1 = gis.map('Pasadena, CA', zoomlevel=12)\n",
        "traffic_analysis_map_1"
      ],
      "execution_count": null,
      "outputs": [
        {
          "output_type": "display_data",
          "data": {
            "text/plain": "MapView(layout=Layout(height='400px', width='100%'))",
            "application/vnd.jupyter.widget-view+json": {
              "version_major": 2,
              "version_minor": 0,
              "model_id": "c19c0f961079490f9526222d52a957b4"
            }
          },
          "metadata": {}
        },
        {
          "output_type": "display_data",
          "data": {
            "text/plain": "<IPython.core.display.HTML object>",
            "text/html": "<div class=\"map-static-img-preview-012a90e2-521f-441d-9659-84974d2a39be\"><img src=\"\"></img></div>"
          },
          "metadata": {}
        }
      ]
    },
    {
      "cell_type": "code",
      "metadata": {
        "trusted": true,
        "id": "P-Zt1k6bzq5y"
      },
      "source": [
        "traffic_analysis_map_1.add_layer(accidents_by_block_group)"
      ],
      "execution_count": null,
      "outputs": []
    },
    {
      "cell_type": "markdown",
      "metadata": {
        "id": "B1ZLZd1Fzq5y"
      },
      "source": [
        "## Aggregating by Hexbins"
      ]
    },
    {
      "cell_type": "markdown",
      "metadata": {
        "id": "tPzAmDn2zq5y"
      },
      "source": [
        "### Generating the Hexbins\n",
        "\n",
        "We can also aggregate the traffic collisions by hexagon bins. To do this, we must first generate the hexagon bins using [```generate_tessellation```](https://developers.arcgis.com/python/api-reference/arcgis.features.manage_data.html?highlight=generate#arcgis.features.manage_data.generate_tessellation)."
      ]
    },
    {
      "cell_type": "code",
      "metadata": {
        "trusted": true,
        "id": "WcvO7J7mzq5y"
      },
      "source": [
        "from arcgis import features\n",
        "hexbins = features.manage_data.generate_tessellation(extent_layer=traffic, \n",
        "                                bin_size=1, \n",
        "                                bin_size_unit='SquareKilometers', \n",
        "                                bin_type='HEXAGON', \n",
        "                                output_name=\"Pasadena_Hexbins\", \n",
        "                                gis=gis)"
      ],
      "execution_count": null,
      "outputs": []
    },
    {
      "cell_type": "markdown",
      "metadata": {
        "id": "rXAOr6KMzq5y"
      },
      "source": [
        "You can generate a preview of the item."
      ]
    },
    {
      "cell_type": "code",
      "metadata": {
        "trusted": true,
        "id": "tf1TpsUozq5z",
        "outputId": "c9c7f888-b146-4d6c-ae37-eb2b9175a147"
      },
      "source": [
        "hexbins"
      ],
      "execution_count": null,
      "outputs": [
        {
          "output_type": "execute_result",
          "execution_count": 12,
          "data": {
            "text/plain": "<Item title:\"Pasadena_Hexbins\" type:Feature Layer Collection owner:gbrunner_LearnGIS>",
            "text/html": "<div class=\"item_container\" style=\"height: auto; overflow: hidden; border: 1px solid #cfcfcf; border-radius: 2px; background: #f6fafa; line-height: 1.21429em; padding: 10px;\">\n                    <div class=\"item_left\" style=\"width: 210px; float: left;\">\n                       <a href='https://www.arcgis.com/home/item.html?id=8fdefe2d64084ab6b11845713d88c227' target='_blank'>\n                        <img src='http://static.arcgis.com/images/desktopapp.png' class=\"itemThumbnail\">\n                       </a>\n                    </div>\n\n                    <div class=\"item_right\"     style=\"float: none; width: auto; overflow: hidden;\">\n                        <a href='https://www.arcgis.com/home/item.html?id=8fdefe2d64084ab6b11845713d88c227' target='_blank'><b>Pasadena_Hexbins</b>\n                        </a>\n                        <br/><img src='https://www.arcgis.com/home/js/jsapi/esri/css/images/item_type_icons/featureshosted16.png' style=\"vertical-align:middle;\">Feature Layer Collection by gbrunner_LearnGIS\n                        <br/>Last Modified: July 10, 2020\n                        <br/>0 comments, 0 views\n                    </div>\n                </div>\n                "
          },
          "metadata": {}
        }
      ]
    },
    {
      "cell_type": "markdown",
      "metadata": {
        "id": "Y-kk0mNxzq5z"
      },
      "source": [
        "### Aggregate by Hexbin"
      ]
    },
    {
      "cell_type": "code",
      "metadata": {
        "trusted": true,
        "id": "fcVS4lGCzq5z"
      },
      "source": [
        "from arcgis import features\n",
        "accidents_by_hexbin = features.summarize_data.aggregate_points(point_layer = traffic, \n",
        "                                                output_name = \"accidents_by_1km_hexbins\",\n",
        "                                                polygon_layer = hexbins,\n",
        "                                                keep_boundaries_with_no_points=False)"
      ],
      "execution_count": null,
      "outputs": []
    },
    {
      "cell_type": "code",
      "metadata": {
        "trusted": true,
        "id": "Sqa1uhrYzq5z",
        "outputId": "c70abfc2-53be-4c54-8661-b77fe1c4e5d6"
      },
      "source": [
        "accidents_by_hexbin"
      ],
      "execution_count": null,
      "outputs": [
        {
          "output_type": "execute_result",
          "execution_count": 14,
          "data": {
            "text/plain": "<Item title:\"accidents_by_1km_hexbins\" type:Feature Layer Collection owner:gbrunner_LearnGIS>",
            "text/html": "<div class=\"item_container\" style=\"height: auto; overflow: hidden; border: 1px solid #cfcfcf; border-radius: 2px; background: #f6fafa; line-height: 1.21429em; padding: 10px;\">\n                    <div class=\"item_left\" style=\"width: 210px; float: left;\">\n                       <a href='https://www.arcgis.com/home/item.html?id=21081b7e7ca04f62b28494b87a89f7aa' target='_blank'>\n                        <img src='http://static.arcgis.com/images/desktopapp.png' class=\"itemThumbnail\">\n                       </a>\n                    </div>\n\n                    <div class=\"item_right\"     style=\"float: none; width: auto; overflow: hidden;\">\n                        <a href='https://www.arcgis.com/home/item.html?id=21081b7e7ca04f62b28494b87a89f7aa' target='_blank'><b>accidents_by_1km_hexbins</b>\n                        </a>\n                        <br/><img src='https://www.arcgis.com/home/js/jsapi/esri/css/images/item_type_icons/featureshosted16.png' style=\"vertical-align:middle;\">Feature Layer Collection by gbrunner_LearnGIS\n                        <br/>Last Modified: July 10, 2020\n                        <br/>0 comments, 0 views\n                    </div>\n                </div>\n                "
          },
          "metadata": {}
        }
      ]
    },
    {
      "cell_type": "markdown",
      "metadata": {
        "id": "wEPqVvCFzq5z"
      },
      "source": [
        "### Add Features to a Map\n",
        "\n",
        "Once the process is complete, we can add the data to a map as follows."
      ]
    },
    {
      "cell_type": "code",
      "metadata": {
        "trusted": true,
        "colab": {
          "referenced_widgets": [
            "f1a4fac59b534b27b7c57ea83d1695ca"
          ]
        },
        "id": "U_wQHQI1zq5z",
        "outputId": "83b7eb3a-0a2c-45b1-b0f8-da1d0bc49101"
      },
      "source": [
        "traffic_analysis_map_2 = gis.map('Pasadena, CA', zoomlevel=12)\n",
        "traffic_analysis_map_2"
      ],
      "execution_count": null,
      "outputs": [
        {
          "output_type": "display_data",
          "data": {
            "text/plain": "MapView(layout=Layout(height='400px', width='100%'))",
            "application/vnd.jupyter.widget-view+json": {
              "version_major": 2,
              "version_minor": 0,
              "model_id": "f1a4fac59b534b27b7c57ea83d1695ca"
            }
          },
          "metadata": {}
        },
        {
          "output_type": "display_data",
          "data": {
            "text/plain": "<IPython.core.display.HTML object>",
            "text/html": "<div class=\"map-static-img-preview-db7a8383-cc9b-4b13-a145-0b91644d5bc8\"><img src=\"\"></img></div>"
          },
          "metadata": {}
        }
      ]
    },
    {
      "cell_type": "code",
      "metadata": {
        "trusted": true,
        "id": "Ak9rxXfhzq5z"
      },
      "source": [
        "traffic_analysis_map_2.add_layer(accidents_by_hexbin)"
      ],
      "execution_count": null,
      "outputs": []
    },
    {
      "cell_type": "markdown",
      "metadata": {
        "id": "swHe60Dzzq5z"
      },
      "source": [
        "## Conclusions\n",
        "\n",
        "Here we used two different approaches to summarize traffic collisions. Notice how the patterns change when we change the aggregating geometry. These are important considerations to take into account when performing spatial analysis."
      ]
    }
  ]
}